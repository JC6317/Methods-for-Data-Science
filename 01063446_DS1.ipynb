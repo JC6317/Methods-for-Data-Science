{
 "cells": [
  {
   "cell_type": "markdown",
   "id": "emerging-footwear",
   "metadata": {},
   "source": [
    "# Methods for Data Science Coursework 1"
   ]
  },
  {
   "cell_type": "markdown",
   "id": "human-mumbai",
   "metadata": {},
   "source": [
    "The following notebook will explore regression and classification techniques on the datasets downloaded from the course page. \n",
    "\n",
    "CID:01063446\n"
   ]
  },
  {
   "cell_type": "markdown",
   "id": "frequent-penguin",
   "metadata": {},
   "source": [
    "## Regression"
   ]
  },
  {
   "cell_type": "markdown",
   "id": "figured-foster",
   "metadata": {},
   "source": [
    "In this first section we will explore regression techniques. We will predict median house prices given a set of unlabelled feature data."
   ]
  },
  {
   "cell_type": "code",
   "execution_count": 103,
   "id": "direct-pacific",
   "metadata": {},
   "outputs": [],
   "source": [
    "#import necessary modules\n",
    "import numpy as np #linear algebra\n",
    "import pandas as pd #dataframes\n",
    "import matplotlib.pyplot as plt #visualisation\n",
    "\n",
    "import seaborn as sns; sns.set_theme() #extra plotting and theme"
   ]
  },
  {
   "cell_type": "code",
   "execution_count": 104,
   "id": "painful-complexity",
   "metadata": {},
   "outputs": [],
   "source": [
    "#load dataspace\n",
    "reg_test = pd.read_csv(\"/home/juser/Downloads/regression_test(1).csv\",header=None) #modify for gta?\n",
    "reg_train = pd.read_csv(\"/home/juser/Downloads/regression_train(1).csv\",header=None) #no headers in dataset"
   ]
  },
  {
   "cell_type": "markdown",
   "id": "adult-directive",
   "metadata": {},
   "source": [
    "We first load our data as a pandas dataframe and we can see the first rows below. Note that the final column is our response (median house price) and all other columns are variables.\n",
    "\n",
    "This data was given to us in an augmented form; there is a column of 1s in the first column index. This is important since linear regression requires an intercept column, so we will remember to not augment this matrix.\n"
   ]
  },
  {
   "cell_type": "code",
   "execution_count": 105,
   "id": "progressive-leone",
   "metadata": {},
   "outputs": [
    {
     "data": {
      "text/html": [
       "<div>\n",
       "<style scoped>\n",
       "    .dataframe tbody tr th:only-of-type {\n",
       "        vertical-align: middle;\n",
       "    }\n",
       "\n",
       "    .dataframe tbody tr th {\n",
       "        vertical-align: top;\n",
       "    }\n",
       "\n",
       "    .dataframe thead th {\n",
       "        text-align: right;\n",
       "    }\n",
       "</style>\n",
       "<table border=\"1\" class=\"dataframe\">\n",
       "  <thead>\n",
       "    <tr style=\"text-align: right;\">\n",
       "      <th></th>\n",
       "      <th>0</th>\n",
       "      <th>1</th>\n",
       "      <th>2</th>\n",
       "      <th>3</th>\n",
       "      <th>4</th>\n",
       "      <th>5</th>\n",
       "      <th>6</th>\n",
       "      <th>7</th>\n",
       "      <th>8</th>\n",
       "      <th>9</th>\n",
       "      <th>10</th>\n",
       "      <th>11</th>\n",
       "      <th>12</th>\n",
       "      <th>13</th>\n",
       "      <th>14</th>\n",
       "      <th>15</th>\n",
       "      <th>16</th>\n",
       "      <th>17</th>\n",
       "      <th>18</th>\n",
       "    </tr>\n",
       "  </thead>\n",
       "  <tbody>\n",
       "    <tr>\n",
       "      <th>0</th>\n",
       "      <td>1.0</td>\n",
       "      <td>-0.413447</td>\n",
       "      <td>-0.487722</td>\n",
       "      <td>0.115738</td>\n",
       "      <td>0.115735</td>\n",
       "      <td>0.158124</td>\n",
       "      <td>0.984960</td>\n",
       "      <td>0.797449</td>\n",
       "      <td>-0.773684</td>\n",
       "      <td>0.985161</td>\n",
       "      <td>-0.803212</td>\n",
       "      <td>1.176466</td>\n",
       "      <td>0.441052</td>\n",
       "      <td>-0.983048</td>\n",
       "      <td>0.158124</td>\n",
       "      <td>1.176469</td>\n",
       "      <td>-0.487723</td>\n",
       "      <td>-0.773598</td>\n",
       "      <td>23.9</td>\n",
       "    </tr>\n",
       "    <tr>\n",
       "      <th>1</th>\n",
       "      <td>1.0</td>\n",
       "      <td>-0.412788</td>\n",
       "      <td>-0.487722</td>\n",
       "      <td>-1.034027</td>\n",
       "      <td>-1.034035</td>\n",
       "      <td>-0.386091</td>\n",
       "      <td>0.819700</td>\n",
       "      <td>0.207144</td>\n",
       "      <td>-0.418203</td>\n",
       "      <td>0.819617</td>\n",
       "      <td>-0.666608</td>\n",
       "      <td>-0.857929</td>\n",
       "      <td>0.379323</td>\n",
       "      <td>-0.803625</td>\n",
       "      <td>-0.386091</td>\n",
       "      <td>-0.857939</td>\n",
       "      <td>-0.487723</td>\n",
       "      <td>-0.418305</td>\n",
       "      <td>29.9</td>\n",
       "    </tr>\n",
       "    <tr>\n",
       "      <th>2</th>\n",
       "      <td>1.0</td>\n",
       "      <td>-0.387983</td>\n",
       "      <td>-0.487722</td>\n",
       "      <td>-0.211099</td>\n",
       "      <td>-0.211084</td>\n",
       "      <td>0.261784</td>\n",
       "      <td>-0.510932</td>\n",
       "      <td>-0.923682</td>\n",
       "      <td>-0.671859</td>\n",
       "      <td>-0.511320</td>\n",
       "      <td>-0.102376</td>\n",
       "      <td>0.344213</td>\n",
       "      <td>0.441052</td>\n",
       "      <td>0.131334</td>\n",
       "      <td>0.261784</td>\n",
       "      <td>0.344218</td>\n",
       "      <td>-0.487727</td>\n",
       "      <td>-0.671863</td>\n",
       "      <td>24.5</td>\n",
       "    </tr>\n",
       "    <tr>\n",
       "      <th>3</th>\n",
       "      <td>1.0</td>\n",
       "      <td>-0.347952</td>\n",
       "      <td>-0.487722</td>\n",
       "      <td>-0.720322</td>\n",
       "      <td>-0.720323</td>\n",
       "      <td>-0.412006</td>\n",
       "      <td>0.846768</td>\n",
       "      <td>0.324494</td>\n",
       "      <td>-0.248591</td>\n",
       "      <td>0.846699</td>\n",
       "      <td>-0.601276</td>\n",
       "      <td>-0.488039</td>\n",
       "      <td>0.369674</td>\n",
       "      <td>-0.381702</td>\n",
       "      <td>-0.412006</td>\n",
       "      <td>-0.488023</td>\n",
       "      <td>-0.487722</td>\n",
       "      <td>-0.248524</td>\n",
       "      <td>27.5</td>\n",
       "    </tr>\n",
       "    <tr>\n",
       "      <th>4</th>\n",
       "      <td>1.0</td>\n",
       "      <td>-0.330562</td>\n",
       "      <td>-0.487722</td>\n",
       "      <td>-0.437258</td>\n",
       "      <td>-0.437249</td>\n",
       "      <td>-0.144217</td>\n",
       "      <td>0.299699</td>\n",
       "      <td>0.918355</td>\n",
       "      <td>0.313581</td>\n",
       "      <td>0.299802</td>\n",
       "      <td>-0.601276</td>\n",
       "      <td>1.176466</td>\n",
       "      <td>0.342811</td>\n",
       "      <td>0.020597</td>\n",
       "      <td>-0.144217</td>\n",
       "      <td>1.176460</td>\n",
       "      <td>-0.487724</td>\n",
       "      <td>0.313542</td>\n",
       "      <td>18.4</td>\n",
       "    </tr>\n",
       "  </tbody>\n",
       "</table>\n",
       "</div>"
      ],
      "text/plain": [
       "    0         1         2         3         4         5         6         7   \\\n",
       "0  1.0 -0.413447 -0.487722  0.115738  0.115735  0.158124  0.984960  0.797449   \n",
       "1  1.0 -0.412788 -0.487722 -1.034027 -1.034035 -0.386091  0.819700  0.207144   \n",
       "2  1.0 -0.387983 -0.487722 -0.211099 -0.211084  0.261784 -0.510932 -0.923682   \n",
       "3  1.0 -0.347952 -0.487722 -0.720322 -0.720323 -0.412006  0.846768  0.324494   \n",
       "4  1.0 -0.330562 -0.487722 -0.437258 -0.437249 -0.144217  0.299699  0.918355   \n",
       "\n",
       "         8         9         10        11        12        13        14  \\\n",
       "0 -0.773684  0.985161 -0.803212  1.176466  0.441052 -0.983048  0.158124   \n",
       "1 -0.418203  0.819617 -0.666608 -0.857929  0.379323 -0.803625 -0.386091   \n",
       "2 -0.671859 -0.511320 -0.102376  0.344213  0.441052  0.131334  0.261784   \n",
       "3 -0.248591  0.846699 -0.601276 -0.488039  0.369674 -0.381702 -0.412006   \n",
       "4  0.313581  0.299802 -0.601276  1.176466  0.342811  0.020597 -0.144217   \n",
       "\n",
       "         15        16        17    18  \n",
       "0  1.176469 -0.487723 -0.773598  23.9  \n",
       "1 -0.857939 -0.487723 -0.418305  29.9  \n",
       "2  0.344218 -0.487727 -0.671863  24.5  \n",
       "3 -0.488023 -0.487722 -0.248524  27.5  \n",
       "4  1.176460 -0.487724  0.313542  18.4  "
      ]
     },
     "execution_count": 105,
     "metadata": {},
     "output_type": "execute_result"
    }
   ],
   "source": [
    "reg_train.head()"
   ]
  },
  {
   "cell_type": "code",
   "execution_count": 106,
   "id": "naval-weight",
   "metadata": {},
   "outputs": [
    {
     "name": "stdout",
     "output_type": "stream",
     "text": [
      "mean 0.0574305156734839 var 1.1350658446264523\n"
     ]
    }
   ],
   "source": [
    "print('mean',np.mean(reg_train.iloc[:,2]),'var', np.var(reg_train.iloc[:,2]))"
   ]
  },
  {
   "cell_type": "markdown",
   "id": "necessary-intersection",
   "metadata": {},
   "source": [
    "Something interesting about the data we have been given is that the explanatory variables seem to be approximately standard normal; they have variance 1 and mean 0. The response variable is not though. This data has also been given to us in augmented form; there is a column of 1s at the start. This column is used to calculate intercept values.\n",
    "\n",
    "This is worth mentioning now because some of our techniques later will require standardised data and so we will have to decide if we want to normalise the above data.\n",
    "\n",
    "Our next step is to separate the data into explanatory and response variables. This is just done by separating the last column from the main dataset"
   ]
  },
  {
   "cell_type": "code",
   "execution_count": 107,
   "id": "better-impossible",
   "metadata": {},
   "outputs": [
    {
     "data": {
      "text/html": [
       "<div>\n",
       "<style scoped>\n",
       "    .dataframe tbody tr th:only-of-type {\n",
       "        vertical-align: middle;\n",
       "    }\n",
       "\n",
       "    .dataframe tbody tr th {\n",
       "        vertical-align: top;\n",
       "    }\n",
       "\n",
       "    .dataframe thead th {\n",
       "        text-align: right;\n",
       "    }\n",
       "</style>\n",
       "<table border=\"1\" class=\"dataframe\">\n",
       "  <thead>\n",
       "    <tr style=\"text-align: right;\">\n",
       "      <th></th>\n",
       "      <th>0</th>\n",
       "      <th>1</th>\n",
       "      <th>2</th>\n",
       "      <th>3</th>\n",
       "      <th>4</th>\n",
       "      <th>5</th>\n",
       "      <th>6</th>\n",
       "      <th>7</th>\n",
       "      <th>8</th>\n",
       "      <th>9</th>\n",
       "      <th>10</th>\n",
       "      <th>11</th>\n",
       "      <th>12</th>\n",
       "      <th>13</th>\n",
       "      <th>14</th>\n",
       "      <th>15</th>\n",
       "      <th>16</th>\n",
       "      <th>17</th>\n",
       "    </tr>\n",
       "  </thead>\n",
       "  <tbody>\n",
       "    <tr>\n",
       "      <th>0</th>\n",
       "      <td>1.0</td>\n",
       "      <td>-0.413447</td>\n",
       "      <td>-0.487722</td>\n",
       "      <td>0.115738</td>\n",
       "      <td>0.115735</td>\n",
       "      <td>0.158124</td>\n",
       "      <td>0.984960</td>\n",
       "      <td>0.797449</td>\n",
       "      <td>-0.773684</td>\n",
       "      <td>0.985161</td>\n",
       "      <td>-0.803212</td>\n",
       "      <td>1.176466</td>\n",
       "      <td>0.441052</td>\n",
       "      <td>-0.983048</td>\n",
       "      <td>0.158124</td>\n",
       "      <td>1.176469</td>\n",
       "      <td>-0.487723</td>\n",
       "      <td>-0.773598</td>\n",
       "    </tr>\n",
       "    <tr>\n",
       "      <th>1</th>\n",
       "      <td>1.0</td>\n",
       "      <td>-0.412788</td>\n",
       "      <td>-0.487722</td>\n",
       "      <td>-1.034027</td>\n",
       "      <td>-1.034035</td>\n",
       "      <td>-0.386091</td>\n",
       "      <td>0.819700</td>\n",
       "      <td>0.207144</td>\n",
       "      <td>-0.418203</td>\n",
       "      <td>0.819617</td>\n",
       "      <td>-0.666608</td>\n",
       "      <td>-0.857929</td>\n",
       "      <td>0.379323</td>\n",
       "      <td>-0.803625</td>\n",
       "      <td>-0.386091</td>\n",
       "      <td>-0.857939</td>\n",
       "      <td>-0.487723</td>\n",
       "      <td>-0.418305</td>\n",
       "    </tr>\n",
       "    <tr>\n",
       "      <th>2</th>\n",
       "      <td>1.0</td>\n",
       "      <td>-0.387983</td>\n",
       "      <td>-0.487722</td>\n",
       "      <td>-0.211099</td>\n",
       "      <td>-0.211084</td>\n",
       "      <td>0.261784</td>\n",
       "      <td>-0.510932</td>\n",
       "      <td>-0.923682</td>\n",
       "      <td>-0.671859</td>\n",
       "      <td>-0.511320</td>\n",
       "      <td>-0.102376</td>\n",
       "      <td>0.344213</td>\n",
       "      <td>0.441052</td>\n",
       "      <td>0.131334</td>\n",
       "      <td>0.261784</td>\n",
       "      <td>0.344218</td>\n",
       "      <td>-0.487727</td>\n",
       "      <td>-0.671863</td>\n",
       "    </tr>\n",
       "    <tr>\n",
       "      <th>3</th>\n",
       "      <td>1.0</td>\n",
       "      <td>-0.347952</td>\n",
       "      <td>-0.487722</td>\n",
       "      <td>-0.720322</td>\n",
       "      <td>-0.720323</td>\n",
       "      <td>-0.412006</td>\n",
       "      <td>0.846768</td>\n",
       "      <td>0.324494</td>\n",
       "      <td>-0.248591</td>\n",
       "      <td>0.846699</td>\n",
       "      <td>-0.601276</td>\n",
       "      <td>-0.488039</td>\n",
       "      <td>0.369674</td>\n",
       "      <td>-0.381702</td>\n",
       "      <td>-0.412006</td>\n",
       "      <td>-0.488023</td>\n",
       "      <td>-0.487722</td>\n",
       "      <td>-0.248524</td>\n",
       "    </tr>\n",
       "    <tr>\n",
       "      <th>4</th>\n",
       "      <td>1.0</td>\n",
       "      <td>-0.330562</td>\n",
       "      <td>-0.487722</td>\n",
       "      <td>-0.437258</td>\n",
       "      <td>-0.437249</td>\n",
       "      <td>-0.144217</td>\n",
       "      <td>0.299699</td>\n",
       "      <td>0.918355</td>\n",
       "      <td>0.313581</td>\n",
       "      <td>0.299802</td>\n",
       "      <td>-0.601276</td>\n",
       "      <td>1.176466</td>\n",
       "      <td>0.342811</td>\n",
       "      <td>0.020597</td>\n",
       "      <td>-0.144217</td>\n",
       "      <td>1.176460</td>\n",
       "      <td>-0.487724</td>\n",
       "      <td>0.313542</td>\n",
       "    </tr>\n",
       "  </tbody>\n",
       "</table>\n",
       "</div>"
      ],
      "text/plain": [
       "    0         1         2         3         4         5         6         7   \\\n",
       "0  1.0 -0.413447 -0.487722  0.115738  0.115735  0.158124  0.984960  0.797449   \n",
       "1  1.0 -0.412788 -0.487722 -1.034027 -1.034035 -0.386091  0.819700  0.207144   \n",
       "2  1.0 -0.387983 -0.487722 -0.211099 -0.211084  0.261784 -0.510932 -0.923682   \n",
       "3  1.0 -0.347952 -0.487722 -0.720322 -0.720323 -0.412006  0.846768  0.324494   \n",
       "4  1.0 -0.330562 -0.487722 -0.437258 -0.437249 -0.144217  0.299699  0.918355   \n",
       "\n",
       "         8         9         10        11        12        13        14  \\\n",
       "0 -0.773684  0.985161 -0.803212  1.176466  0.441052 -0.983048  0.158124   \n",
       "1 -0.418203  0.819617 -0.666608 -0.857929  0.379323 -0.803625 -0.386091   \n",
       "2 -0.671859 -0.511320 -0.102376  0.344213  0.441052  0.131334  0.261784   \n",
       "3 -0.248591  0.846699 -0.601276 -0.488039  0.369674 -0.381702 -0.412006   \n",
       "4  0.313581  0.299802 -0.601276  1.176466  0.342811  0.020597 -0.144217   \n",
       "\n",
       "         15        16        17  \n",
       "0  1.176469 -0.487723 -0.773598  \n",
       "1 -0.857939 -0.487723 -0.418305  \n",
       "2  0.344218 -0.487727 -0.671863  \n",
       "3 -0.488023 -0.487722 -0.248524  \n",
       "4  1.176460 -0.487724  0.313542  "
      ]
     },
     "execution_count": 107,
     "metadata": {},
     "output_type": "execute_result"
    }
   ],
   "source": [
    "xr_train = reg_train.iloc[:,:-1] #select all but last column\n",
    "xr_test = reg_test.iloc[:,:-1] #select all but last column\n",
    "\n",
    "xr_train.head() #checking we removed the last column"
   ]
  },
  {
   "cell_type": "code",
   "execution_count": 108,
   "id": "waiting-usage",
   "metadata": {},
   "outputs": [
    {
     "data": {
      "text/plain": [
       "0    23.9\n",
       "1    29.9\n",
       "2    24.5\n",
       "3    27.5\n",
       "4    18.4\n",
       "Name: 18, dtype: float64"
      ]
     },
     "execution_count": 108,
     "metadata": {},
     "output_type": "execute_result"
    }
   ],
   "source": [
    "yr_train = reg_train.iloc[:,-1] #select last column\n",
    "yr_test = reg_test.iloc[:,-1]\n",
    "yr_train.head() #check our y data is ok\n"
   ]
  },
  {
   "cell_type": "markdown",
   "id": "analyzed-variable",
   "metadata": {},
   "source": [
    "### Linear Regression"
   ]
  },
  {
   "cell_type": "markdown",
   "id": "accessory-wesley",
   "metadata": {},
   "source": [
    "We will try modelling this data with linear regression first. The code below calculates the beta coefficients by solving the system of equations: $$X^T X \\cdot \\beta = X^T y $$\n",
    "\n",
    "Where X is our matrix of explanatory variables, y is the response variable.\n",
    "\n",
    "This is known as the normal equations and the solution to this is a vector of beta coefficients that will allow us to make predictions by dotting the feature matrix with this vector. "
   ]
  },
  {
   "cell_type": "code",
   "execution_count": 109,
   "id": "first-investigator",
   "metadata": {},
   "outputs": [
    {
     "name": "stdout",
     "output_type": "stream",
     "text": [
      "betas: [ 2.25185999e+01 -6.18339892e-01  7.88560025e+03 -4.57658189e+04\n",
      "  4.57656497e+04  1.00185561e+09  9.70965629e+02 -1.66699447e-01\n",
      "  1.25170699e+03 -9.67838200e+02 -4.60019424e-02 -5.58053401e+03\n",
      "  7.41926871e-01 -3.71280101e+00 -1.00185561e+09  5.57880022e+03\n",
      " -7.88446966e+03 -1.25520057e+03] in sample MSE: 24.382057495899513 out of sample MSE: 19.544073285332516\n"
     ]
    }
   ],
   "source": [
    "N = xr_train.shape[0] #dimension error check\n",
    "\n",
    "\n",
    "beta_ml = np.linalg.solve(xr_train.T @ xr_train, xr_train.T @ yr_train) #parameters\n",
    "\n",
    "resid = yr_train - xr_train@beta_ml #calculate residuals\n",
    "MSE_li = np.mean(resid**2) #MSE linear reg. in sample\n",
    "\n",
    "resid = yr_test - xr_test@beta_ml\n",
    "MSE_lo = np.mean(resid**2) #out of sample MSE\n",
    "\n",
    "print('betas:',beta_ml,'in sample MSE:',MSE_li,'out of sample MSE:',MSE_lo)"
   ]
  },
  {
   "cell_type": "markdown",
   "id": "bigger-glass",
   "metadata": {},
   "source": [
    "In sample MSE is higher than out of sample MSE. This means that the model is fitting  worse to the data that it was trained on, than some data it has never seen. This is quite unusual, especially with OLS linear regression which often overfits to the training set ( it has good MSE for training data, but not as good MSE for test data).\n",
    "\n",
    "Potential reasons for this would be that the test data just happens to have a lot less variability (it has easier examples to predict) than the training data. Our training data might also be not very well balanced and harder to predict most of the cases well. The training data could also be quite sparse in the feature space. In other words, the training data points are scattered far from each other and so a lot of the points will inevitably end up far from the line we fit.\n",
    "\n",
    "Some of these beta values are very large (order e+09), which means these variables have a huge influence on our predicted value. Larger coefficient values can suggest that those variables are very important, but in this case there is a chance it results from overfitting the sparse or noisy training set. Overall, we would conclude that the model is not particularly helpful. \n"
   ]
  },
  {
   "cell_type": "markdown",
   "id": "cordless-mistress",
   "metadata": {},
   "source": [
    "### Ridge regression"
   ]
  },
  {
   "cell_type": "markdown",
   "id": "filled-hughes",
   "metadata": {},
   "source": [
    "Our next method will be ridge regression. Ridge regression should perform better than linear regression because it shrinks the beta coefficients. This is useful since smaller beta values means less variability in the prediction. In other words, if one beta coefficient is large, a small change in the associated explanatory variable will result in a large change of predicted response variable, which is not good for making predictions. Ridge has a penalty for large beta coefficients and so results in smaller beta values, which reduces the variance of our model.\n",
    "\n",
    "The difference between the ridge regression and linear regression is that the function to be minimised has an additional matrix in the system of equations. \n",
    "\n",
    "$$(X^T X + \\lambda I) \\cdot \\beta = X^T y $$\n",
    "\n",
    "This penalty term is scaled with the parameter lambda and it penalises the size of the beta coefficients. There is tradeoff when selecting our optimum lambda value. If lambda is too large, then we create model with many approximately zero beta coefficients and our model will be very biased. If we take a a lambda value too small, then our model will have good bias, but it will be working almost like linear regression.\n",
    "\n",
    "For ridge regression to work, we require our data to be standardised. This is so that the beta coefficient shrinkage is applied evenly. If it is not, then the betas associated with larger explanatory variables will be penalised more. Whilst the data appears to be approximately standardised already, we will still standardise our data to be safe.  We will not standardise the column of 1s (intercept).It will also be removed at the start, and the intercept will be calculated separately since we do not want to penalise the intercept. This intercept will be approximated by taking the mean of the test data y values.\n",
    "\n",
    "Of course, for the final predictions we will add the mean back.\n",
    "\n"
   ]
  },
  {
   "cell_type": "code",
   "execution_count": 110,
   "id": "suited-delta",
   "metadata": {},
   "outputs": [],
   "source": [
    "#function that standardises an X dataset\n",
    "def standardise(X): #need to standardise data for ridge and knn\n",
    "    mu = np.mean(X, 0)\n",
    "    sigma = np.std(X, 0)\n",
    "    X_std = (X - mu) / sigma \n",
    "    return X_std"
   ]
  },
  {
   "cell_type": "code",
   "execution_count": 111,
   "id": "protected-lightning",
   "metadata": {},
   "outputs": [],
   "source": [
    "def ridge_estimate(X, y, penalty):\n",
    "    \n",
    "    # X: N x D matrix of training inputs\n",
    "    # y: N x 1 vector of training targets/observations\n",
    "    # returns: maximum likelihood parameters (D x 1)\n",
    "    \n",
    "    N, D = X.shape\n",
    "    #X_aug = np.hstack([np.ones((N,1)), X]) # augmented training inputs of size N x (D+1)\n",
    "    X_aug = X #we dont actually want to penalise the intercept, so we dont augment\n",
    "    N_aug, D_aug = X_aug.shape\n",
    "    I = np.identity(D_aug)\n",
    "    beta_ridge = np.linalg.solve(X_aug.T @ X_aug + penalty * I, X_aug.T @ y) \n",
    "    \n",
    "    return beta_ridge"
   ]
  },
  {
   "cell_type": "markdown",
   "id": "durable-capacity",
   "metadata": {},
   "source": [
    "The function above calculates the betas for an input X and y inputs and observations. This function is almost identical to the method we used in linear regression, except there is an identity matrix scaled by lambda that we mentioned above.\n",
    "\n",
    "The function below is used for creating folds for cross validation later. These are equal sized disjoint subsets of the original data."
   ]
  },
  {
   "cell_type": "code",
   "execution_count": 112,
   "id": "advised-spirituality",
   "metadata": {},
   "outputs": [],
   "source": [
    "def cross_val_split(data, num_folds): #splits data into folds for cross validating\n",
    "    fold_size = int(len(data) / num_folds) #this will leave out some data, maybe change later\n",
    "    data_perm = np.random.permutation(data) #shuffle data\n",
    "    folds = []\n",
    "    for k in range(num_folds): #for each fold extract the fold_size elements\n",
    "        folds.append(data_perm[k*fold_size:(k+1)*fold_size, :]) #perhaps change append to assign with preallocated matrix later?\n",
    "\n",
    "    return folds #list of arrays, each array is specific fold"
   ]
  },
  {
   "cell_type": "code",
   "execution_count": 113,
   "id": "correct-finnish",
   "metadata": {},
   "outputs": [],
   "source": [
    "#function to quickly calculate Mean Squared Error for validation/testing\n",
    "def mse(beta,X,Y): \n",
    "    residue = Y- X@beta\n",
    "    MSE = np.mean(residue**2)\n",
    "    \n",
    "    return MSE"
   ]
  },
  {
   "cell_type": "markdown",
   "id": "muslim-lightweight",
   "metadata": {},
   "source": [
    "The below function will uses cross validation to train our model and seek the optimum parameter lambda. This function works by splitting our data into a number of folds. We leave out one fold at a time and train the model on the remaining folds for various lambda values. This model is tested on the left-out fold to give us a validation MSE, for each lambda value. Within each fold, we track the best validation MSE and corresponding lambda value. The function outputs various objects, but most notable is an array of the best lambda values and the validation MSEs for each lambda and each fold. "
   ]
  },
  {
   "cell_type": "code",
   "execution_count": 114,
   "id": "painful-waste",
   "metadata": {},
   "outputs": [],
   "source": [
    "def cross_val_ridge(data, num_folds,lambs,seed=25):\n",
    "    np.random.seed(seed)\n",
    "    \n",
    "    data = standardise(data.iloc[:,1:])\n",
    "    \n",
    "    folds = cross_val_split(data, num_folds) #split data into shuffled folds\n",
    "    train_MSEs = np.zeros((num_folds,len(lambs))) #each row is a fold, each column is a lambda value\n",
    "    val_MSEs = np.zeros((num_folds,len(lambs))) #to validate on later\n",
    "    best_MSEs = float(np.inf)* np.ones(num_folds) #variable that stores best MSE to check if better parameter found\n",
    "    betas = np.zeros((num_folds,data.shape[1]-1)) #stores best beta weights for each fold, -1 ignores response\n",
    "    best_lambs = np.zeros(num_folds) #stores best lambda for each fold\n",
    "    \n",
    "\n",
    "\n",
    "    for i in range(len(folds)): #for each fold\n",
    "        print('Fold', i+1)\n",
    "        # define the training set\n",
    "        #converting list of array into 3d array inefficient, change above function later?\n",
    "        train_set = np.delete(np.asarray(folds).reshape(len(folds), folds[0].shape[0], folds[0].shape[1]), i, axis=0) #leave one out?\n",
    "        train_folds = train_set.reshape(len(train_set)*train_set[0].shape[0], train_set[0].shape[1]) #merge back into 2d array\n",
    "        X_train = train_folds[:,:-1] #all but last column are variables\n",
    "        y_train = train_folds[:, -1] #last column is median salary response\n",
    "                \n",
    "        # define the validation set\n",
    "        val_fold = folds[i] #call back the left out fold\n",
    "        X_val = val_fold[:,:-1]\n",
    "        y_val = val_fold[:, -1]\n",
    "\n",
    "        # train the model\n",
    "        for l in range(len(lambs)): #for each lambda\n",
    "            #print(lambs[l])\n",
    "            W = ridge_estimate(X_train,y_train, penalty=lambs[l]) #calculate weights/betas\n",
    "            # evaluate\n",
    "            train_mse = mse(W,X_train,y_train) \n",
    "            val_mse = mse(W, X_val, y_val) #calculate MSE\n",
    "            \n",
    "            train_MSEs[i,l] = train_mse #store MSE for each lambda (column index) and each fold (row index)\n",
    "            val_MSEs[i,l] = val_mse\n",
    "\n",
    "            if val_mse < best_MSEs[i]: #if MSE for this fold and lambda is better than any MSE of this fold\n",
    "                best_MSEs[i] = val_mse\n",
    "\n",
    "                betas[i,:] = W\n",
    "                best_lambs[i] = lambs[l]\n",
    "            \n",
    "            \n",
    "            #print(\"MSE on validation set #{}: {}, Lambda={}\".format(i+1, val_mse,lambs[l]))\n",
    "            \n",
    "        print(\"Training finished for fold {}.\".format(i+1))\n",
    "\n",
    "    return train_MSEs, val_MSEs, betas, best_lambs"
   ]
  },
  {
   "cell_type": "markdown",
   "id": "satisfactory-going",
   "metadata": {},
   "source": [
    "We will use this function for 5 fold cross validation to explore lambda between 0.01 and 50. Note that we do not bother to check lambda=0 since a ridge regression model with this lambda value is equivalent to a linear regression model, which we have already trained above."
   ]
  },
  {
   "cell_type": "code",
   "execution_count": 115,
   "id": "secondary-cleaners",
   "metadata": {},
   "outputs": [
    {
     "name": "stdout",
     "output_type": "stream",
     "text": [
      "Fold 1\n",
      "Training finished for fold 1.\n",
      "Fold 2\n",
      "Training finished for fold 2.\n",
      "Fold 3\n",
      "Training finished for fold 3.\n",
      "Fold 4\n",
      "Training finished for fold 4.\n",
      "Fold 5\n",
      "Training finished for fold 5.\n"
     ]
    },
    {
     "data": {
      "text/plain": [
       "array([22.68716792, 50.        ,  6.77556391, 50.        , 11.91238095])"
      ]
     },
     "execution_count": 115,
     "metadata": {},
     "output_type": "execute_result"
    }
   ],
   "source": [
    "k=5 #number of folds\n",
    "l = np.linspace(0.01,50,400)\n",
    "setseed=10\n",
    "train_MSEs,val_MSEs, betas_r, best_lambs = cross_val_ridge(reg_test, num_folds=k, lambs=l, seed=setseed)\n",
    "\n",
    "best_lambs"
   ]
  },
  {
   "cell_type": "markdown",
   "id": "formal-devices",
   "metadata": {},
   "source": [
    "We can see the best lambda values for each fold. These lambda values vary a lot. We even have folds 2 and 4 being chosen as lambda=50, which was the largest parameter value that we explored. The large lambda value being chosen means that there was a large benefit in penalising the size of the coefficients. It also means that we were able to introduce lots of bias into our model, before the MSE started to decrease/ These cases where optimum lambda was chosen to be 50 suggest that our data for these specific folds could have a lot of variability. In other words, it was hard to fit a ridge regression model to these folds. \n",
    "\n",
    "Looking at the graph below, we can examine what happened for the first fold. The MSE decreases as lambda increases, and then reach a minimum value around lambda=22 before increasing again. This can be explained as MSE measures both bias and variance. Whilst lambda increases, bias will increase, but variance will decrease. There is a turning point where increasing lambda further does not benefit variance as much as it introduces bias. This fold was likely easier to fit a model to than folds 2 and 4. Also note that the MSE in this parameter tuning can not be compared to the linear regression since we have standardised all the data columns and not standardised it back yet.\n",
    "\n",
    "It is clear that there is not much consistency between each of the folds. To choose an overal optimum lambda, we will look for the best average validation MSE (averaging across the 5 folds). We decide to do this instead of averaging the lambda values for the above folds since those values are likely biased by the lambda=0 values."
   ]
  },
  {
   "cell_type": "code",
   "execution_count": 116,
   "id": "reported-satellite",
   "metadata": {},
   "outputs": [
    {
     "name": "stdout",
     "output_type": "stream",
     "text": [
      "lowest MSE lambda for each fold [22.68716792 50.          6.77556391 50.         11.91238095]\n"
     ]
    }
   ],
   "source": [
    "print('lowest MSE lambda for each fold',best_lambs)"
   ]
  },
  {
   "cell_type": "code",
   "execution_count": 117,
   "id": "federal-damages",
   "metadata": {},
   "outputs": [
    {
     "data": {
      "text/plain": [
       "<function matplotlib.pyplot.show(close=None, block=None)>"
      ]
     },
     "execution_count": 117,
     "metadata": {},
     "output_type": "execute_result"
    },
    {
     "data": {
      "image/png": "[encoded data removed]",
      "text/plain": [
       "<Figure size 432x288 with 1 Axes>"
      ]
     },
     "metadata": {},
     "output_type": "display_data"
    }
   ],
   "source": [
    "plt.figure\n",
    "plt.plot(val_MSEs[0,:])\n",
    "plt.title(\"MSE against lambda for fold 1\")\n",
    "plt.xlabel(\"lambda\")\n",
    "plt.ylabel(\"MSE\") #scaled down\n",
    "\n",
    "plt.xticks(np.linspace(0,400,6),[0,10,20,30,40,50])\n",
    "plt.show"
   ]
  },
  {
   "cell_type": "code",
   "execution_count": 118,
   "id": "alike-fruit",
   "metadata": {},
   "outputs": [
    {
     "data": {
      "text/plain": [
       "<function matplotlib.pyplot.show(close=None, block=None)>"
      ]
     },
     "execution_count": 118,
     "metadata": {},
     "output_type": "execute_result"
    },
    {
     "data": {
      "image/png": "[encoded data removed]",
      "text/plain": [
       "<Figure size 432x288 with 1 Axes>"
      ]
     },
     "metadata": {},
     "output_type": "display_data"
    }
   ],
   "source": [
    "plt.figure\n",
    "plt.title(\"comparing MSE for different lambdas across different folds\")\n",
    "plt.plot(val_MSEs[0,:],label=\"Fold 1\")\n",
    "plt.plot(val_MSEs[1,:], label=\"Fold 2\")\n",
    "plt.plot(val_MSEs[2,:], label=\"Fold 3\")\n",
    "plt.plot(val_MSEs[3,:], label=\"Fold 4\")\n",
    "plt.plot(val_MSEs[4,:], label=\"Fold 5\")\n",
    "plt.xlabel(\"lambda\")\n",
    "plt.ylabel(\"MSE\")\n",
    "plt.xticks(np.linspace(0,400,6),[0,10,20,30,40,50])\n",
    "plt.legend()\n",
    "plt.show"
   ]
  },
  {
   "cell_type": "markdown",
   "id": "selective-assist",
   "metadata": {},
   "source": [
    "There is large variation between the different folds. Though, this is expected to some degree when cross validating. Below we will calculated the optimum lambda value, but this value should be taken as an estimate with some degree of variability. note that the MSE has been scaled down, but the shape of the curve is accurate."
   ]
  },
  {
   "cell_type": "code",
   "execution_count": 119,
   "id": "altered-worship",
   "metadata": {},
   "outputs": [
    {
     "data": {
      "text/plain": [
       "Text(0, 0.5, 'MSE')"
      ]
     },
     "execution_count": 119,
     "metadata": {},
     "output_type": "execute_result"
    },
    {
     "data": {
      "image/png": "[encoded data removed]",
      "text/plain": [
       "<Figure size 432x288 with 1 Axes>"
      ]
     },
     "metadata": {},
     "output_type": "display_data"
    }
   ],
   "source": [
    "plt.plot(np.mean(val_MSEs, axis=0))\n",
    "plt.title(\"Average MSE (across 5 folds) for varying lambda\")\n",
    "plt.xticks(np.linspace(0,400,6),[0,10,20,30,40,50])\n",
    "plt.xlabel(\"lambda\")\n",
    "plt.ylabel(\"MSE\")"
   ]
  },
  {
   "cell_type": "code",
   "execution_count": 120,
   "id": "executive-leeds",
   "metadata": {},
   "outputs": [
    {
     "name": "stdout",
     "output_type": "stream",
     "text": [
      "The optimum lambda value is 23.188320802005016\n"
     ]
    }
   ],
   "source": [
    "mean_MSEs = np.mean(val_MSEs, axis=0) #mean across 5 folds\n",
    "np.argmin(mean_MSEs) #index of minimum\n",
    "opt_lamb = l[np.argmin(mean_MSEs)]\n",
    "print('The optimum lambda value is',opt_lamb )"
   ]
  },
  {
   "cell_type": "markdown",
   "id": "recognized-brake",
   "metadata": {},
   "source": [
    "We find that the best overall Lambda is approximately 23. This is not too far from the optimum lambda value in fold 1, but does vary a bit from some of the other folds. It is a relatively large lambda value and again suggests that our data is hard to fit.\n",
    "\n",
    "Next we check the distribution of errors"
   ]
  },
  {
   "cell_type": "code",
   "execution_count": 121,
   "id": "veterinary-colonial",
   "metadata": {},
   "outputs": [
    {
     "name": "stdout",
     "output_type": "stream",
     "text": [
      "mean: -0.002905812700220227\n",
      "standard deviation: 0.6697930305026015\n"
     ]
    },
    {
     "data": {
      "image/png": "[encoded data removed]",
      "text/plain": [
       "<Figure size 432x288 with 1 Axes>"
      ]
     },
     "metadata": {},
     "output_type": "display_data"
    }
   ],
   "source": [
    "np.random.seed(25) #getting same seed so that cross val shuffle is still the same\n",
    "data = standardise(reg_test.iloc[:,1:])\n",
    "\n",
    "folds = cross_val_split(data, 5) #split data into shuffled folds\n",
    "residz = np.zeros((5,20))\n",
    "\n",
    "for i in range(len(folds)): #for each fold\n",
    "    # define the training set\n",
    "    train_set = np.delete(np.asarray(folds).reshape(len(folds), folds[0].shape[0], folds[0].shape[1]), i, axis=0) #leave one out?\n",
    "    train_folds = train_set.reshape(len(train_set)*train_set[0].shape[0], train_set[0].shape[1]) #merge back into 2d array\n",
    "    X_train = train_folds[:,:-1] #all but last column are variables\n",
    "    y_train = train_folds[:, -1] #last column is median salary response\n",
    "\n",
    "    # define the validation set\n",
    "    val_fold = folds[i] #call back the left out fold\n",
    "    X_val = val_fold[:,:-1]\n",
    "    y_val = val_fold[:, -1]\n",
    "\n",
    "    W = ridge_estimate(X_train,y_train, penalty=opt_lamb) #calculate weights/betas\n",
    "    prediccs = X_val@W\n",
    "    ressys = prediccs - y_val\n",
    "    residz[i,:] =ressys\n",
    "\n",
    "res1d = np.reshape(residz,newshape=100)\n",
    "\n",
    "plt.hist(res1d)\n",
    "plt.title('histogram of residuals from validation')\n",
    "plt.ylabel('frequency')\n",
    "plt.xlabel('residual')\n",
    "\n",
    "print('mean:',np.mean(res1d))\n",
    "print('standard deviation:',np.std(res1d))\n"
   ]
  },
  {
   "cell_type": "markdown",
   "id": "violent-interpretation",
   "metadata": {},
   "source": [
    "The distribution of errors follows some approximately gaussian shape. Though it it skewed a bit towards the positive side. \n",
    "\n",
    "One very important assumption we make when fitting linear or ridge regression models is that the residuals are standard normally distributed. We have a mean very close to 0, but a standard deviation of 0.67. The shape is approximately gaussian, so it is not entirely unreasonable to use linear regression methods on this dataset."
   ]
  },
  {
   "cell_type": "markdown",
   "id": "annual-prairie",
   "metadata": {},
   "source": [
    "Below, we will now calculate in and out of sample MSE values when we retrain the whole dataset with this lambda parameter"
   ]
  },
  {
   "cell_type": "code",
   "execution_count": 122,
   "id": "breathing-designer",
   "metadata": {},
   "outputs": [
    {
     "name": "stdout",
     "output_type": "stream",
     "text": [
      "in sample MSE: 24.66509099294769\n"
     ]
    }
   ],
   "source": [
    "#standardised datasets\n",
    "X_train_std = standardise(reg_train.iloc[:,1:-1])\n",
    "y_train_std = reg_train.iloc[:,-1]\n",
    "\n",
    "betas_train = ridge_estimate(X_train_std,y_train_std,opt_lamb) #betas for train set, optimum lambda\n",
    "\n",
    "mean = np.mean(reg_train.iloc[:,-1])\n",
    "sd = np.std(reg_train.iloc[:,-1])\n",
    "\n",
    "prediction = (X_train_std@betas_train)+mean #modify predict function later for unstandardise\n",
    "residues= prediction - reg_train.iloc[:,-1]\n",
    "MSE = np.mean(residues**2)\n",
    "\n",
    "print('in sample MSE:',MSE)\n"
   ]
  },
  {
   "cell_type": "code",
   "execution_count": 123,
   "id": "driven-pizza",
   "metadata": {},
   "outputs": [
    {
     "name": "stdout",
     "output_type": "stream",
     "text": [
      "out of sample MSE: 26.071090433148218\n"
     ]
    }
   ],
   "source": [
    "X_val = standardise(reg_test.iloc[:,1:-1])\n",
    "\n",
    "prediction = ((X_val@betas_train))+mean #recentre\n",
    "residues= prediction - reg_test.iloc[:,-1]\n",
    "MSE = np.mean(residues**2)\n",
    "print('out of sample MSE:' ,MSE)"
   ]
  },
  {
   "cell_type": "markdown",
   "id": "permanent-motion",
   "metadata": {},
   "source": [
    "We have a similar in sample MSE for ridge regression to linear regression. It is marginally worse than the linear regression in sample MSE, which is not too surprising; the ridge regression is used to avoid overfitting to the training set.\n",
    "\n",
    "The out of sample MSE is marginally worse than the in sample MSE. It happens to be worse than the original linear regression out of sample prediction. This might seem a bit worrying at first since ridge is supposed to perform better for linear regression in the out of sample datasets. However, this is likely explained with the data being hard to fit, just as we found whilst performing the cross validating.\n",
    "\n",
    "However, this result might also be explained with the fact that the means of the y values for the train and test data are quite different. We have standardised (centred) our y column so that the intercept could be taken as the mean and added back on later. This was done to avoid penalising the beta0 coefficient. Perhaps next time we could find another way to calculate the beta0 without penalising it in the ridge.\n",
    "\n",
    "Overall, the ridge regression method is not great for this dataset. The MSE around 20 is a significant value when the mean of the predicted values is approximately 20."
   ]
  },
  {
   "cell_type": "code",
   "execution_count": 124,
   "id": "august-landscape",
   "metadata": {},
   "outputs": [
    {
     "name": "stdout",
     "output_type": "stream",
     "text": [
      "mean of testing data y: 20.60882352941177\n",
      "mean of training data y: 23.018564356435643\n",
      "different mean intercept out of sample MSE: 20.26423957972249\n"
     ]
    }
   ],
   "source": [
    "mean2=np.mean(reg_test.iloc[:,-1])\n",
    "print('mean of testing data y:',mean2)\n",
    "print('mean of training data y:',mean)\n",
    "\n",
    "#this is not the correct thing to do, since we are not supposed to know the test data mean,\n",
    "#but is to demonstrate the difference there is if our training data mean was more representative to the test data mean.\n",
    "prediction = ((X_val@betas_train))+mean2 #recentre\n",
    "residues= prediction - reg_test.iloc[:,-1]\n",
    "MSE = np.mean(residues**2)\n",
    "print('different mean intercept out of sample MSE:' ,MSE) "
   ]
  },
  {
   "cell_type": "markdown",
   "id": "palestinian-conclusion",
   "metadata": {},
   "source": [
    "### KNN"
   ]
  },
  {
   "cell_type": "markdown",
   "id": "proved-steering",
   "metadata": {},
   "source": [
    "Our final regression method will be using KNN. In this algorithm, we predict the response of an datapoint by calculating the euclidean distance between this datapoint and all the datapoints in our training set. We find the k nearest neighbours (points with the smallest euclidean distance) and average the response values from these neighbours."
   ]
  },
  {
   "cell_type": "code",
   "execution_count": 125,
   "id": "widespread-humidity",
   "metadata": {},
   "outputs": [],
   "source": [
    "#function to measure distance so we can find nearest neighbours\n",
    "def euclidian_distance(p, q): #euclidean distance\n",
    "    return np.sqrt(np.sum((p-q)**2, axis=1))\n",
    "\n"
   ]
  },
  {
   "cell_type": "code",
   "execution_count": 126,
   "id": "joined-greek",
   "metadata": {},
   "outputs": [],
   "source": [
    "#returns an array containing the k nearest neighbours for each point in X_test when measured against X_train \n",
    "def k_neighbours(X_test, X_train, k=5, return_distance=False):\n",
    "    n_neighbours = k\n",
    "    dist = []\n",
    "    neigh_ind = []\n",
    "  \n",
    "    # compute distance from each point x_text in X_test to all points in X_train \n",
    "    point_dist = [euclidian_distance(x_test, X_train) for x_test in X_test] \n",
    "\n",
    "    # determine which k training points are closest to each test point\n",
    "    for row in point_dist:\n",
    "        enum_neigh = enumerate(row)\n",
    "        sorted_neigh = sorted(enum_neigh, key=lambda x: x[1])[:k]\n",
    "\n",
    "        ind_list = [tup[0] for tup in sorted_neigh]\n",
    "        dist_list = [tup[1] for tup in sorted_neigh]\n",
    "\n",
    "        dist.append(dist_list)\n",
    "        neigh_ind.append(ind_list)\n",
    "  \n",
    "    # return distances together with indices of k nearest neighbouts\n",
    "    if return_distance:\n",
    "        return np.array(dist), np.array(neigh_ind)\n",
    "\n",
    "    return np.array(neigh_ind)\n",
    "\n",
    "#using the neighbours from above, averages the response values that correspond to these neighbours, for each point in X_test\n",
    "def knn_reg_predict(X_test, X_train, y_train, k=20):\n",
    "    # each of the k neighbours contributes equally to the classification of any data point in X_test  \n",
    "    neighbours = k_neighbours(X_test, X_train, k=k)\n",
    "    # compute mean over neighbours labels\n",
    "\n",
    "    y_pred = np.array([np.mean(y_train[neighbour]) for neighbour in neighbours]) \n",
    "\n",
    "    assert(y_pred.shape[0]==X_test.shape[0])\n",
    "    \n",
    "    return y_pred"
   ]
  },
  {
   "cell_type": "markdown",
   "id": "assisted-percentage",
   "metadata": {},
   "source": [
    "The function below will perform cross validation for our KNN method. As a reminder, our cross validation will split our data into equal sized disjoint subsets of the original data. One subset is left out, and the model is trained on the rest of data. This is repeated for each subset and we will also vary the k that determines how many nearest neighbours we are averaging from. A larger k means that we will take into account a lot of datapoints, this can be effective if there are lots of datapoints close to point we are trying to predict.\n",
    "\n",
    "KNN requires standardised data, this is so that the euclidean distance has a meaning. Otherwise, if different variables had different scales, then the distances would be skewed towards the variables with larger scales.\n",
    "Fortunately, the dataset appears to be approximately standardised, so this time we decide we do not need to standardise it."
   ]
  },
  {
   "cell_type": "code",
   "execution_count": 127,
   "id": "architectural-arrangement",
   "metadata": {},
   "outputs": [],
   "source": [
    "def cross_val_knn(data, num_folds, k, seed=25):\n",
    "    \n",
    "    np.random.seed(seed) #repeatable results\n",
    "    \n",
    "    #standardised\n",
    "    \n",
    "    \n",
    "    folds = cross_val_split(data, num_folds) #split data into shuffled folds\n",
    "    \n",
    "    #preallocate spaces\n",
    "    train_MSEs = np.zeros((num_folds,len(k))) #each row is a fold, each column is a k value\n",
    "    val_MSEs = np.zeros((num_folds,len(k))) #to validate on later\n",
    "    best_MSEs = float(np.inf)* np.ones(num_folds) #variable that stores best MSE to check if better parameter found\n",
    "    neighbs = np.zeros((num_folds,data.shape[1])) #stores best neighbours for each fold\n",
    "    best_k = np.zeros(num_folds) #stores best k for each fold\n",
    "\n",
    "    for i in range(len(folds)): #for each fold\n",
    "        print('Fold', i+1)\n",
    "        # define the training set\n",
    "        train_set = np.delete(np.asarray(folds).reshape(len(folds), folds[0].shape[0], folds[0].shape[1]), i, axis=0) #leave one out?\n",
    "        train_folds = train_set.reshape(len(train_set)*train_set[0].shape[0], train_set[0].shape[1]) #merge back into 2d array\n",
    "        X_train = train_folds[:,:-1] #all but last column are variables\n",
    "        y_train = train_folds[:, -1] #last column is median salary response\n",
    "        \n",
    "        val_fold = folds[i] #call back the left out fold\n",
    "        X_val = val_fold[:,:-1]\n",
    "        y_val = val_fold[:, -1]\n",
    "        \n",
    "        for ki in range(len(k)):\n",
    "            y_predi = knn_reg_predict(X_train, X_train, y_train, k=k[ki])\n",
    "            train_MSE = np.mean((y_predi-y_train)**2)\n",
    "            train_MSEs[i,ki] = train_MSE\n",
    "            \n",
    "            \n",
    "            \n",
    "            \n",
    "            \n",
    "            \n",
    "            y_predo = knn_reg_predict(X_val, X_train, y_train, k=k[ki])\n",
    "\n",
    "            val_MSE = np.mean((y_predo-y_val)**2)\n",
    "            val_MSEs[i,ki] = val_MSE\n",
    "            \n",
    "            \n",
    "            if val_MSE < best_MSEs[i]: #if MSE for this fold and lambda is better than any MSE of this fold\n",
    "                best_MSEs[i] = val_MSE\n",
    "\n",
    "                best_k[i] = k[ki]\n",
    "\n",
    "            #print(\"MSE on validation set #{}: {}, k={}\".format(i+1, val_MSE,k[ki]))\n",
    "            \n",
    "        print(\"Training finished for fold {}.\".format(i+1))\n",
    "        \n",
    "    return best_k,val_MSEs,train_MSEs\n",
    "            \n",
    "            "
   ]
  },
  {
   "cell_type": "markdown",
   "id": "copyrighted-radiation",
   "metadata": {},
   "source": [
    "We run our function with 5-fold cross validation and explore k values ranging from 1 to 20. We force the same seed as we used previously. This means the same random seed for the random shuffle that creates our cross validation subsets. So the results for our KNN are directly comparable with the ridge regression."
   ]
  },
  {
   "cell_type": "code",
   "execution_count": 128,
   "id": "scenic-poker",
   "metadata": {},
   "outputs": [
    {
     "name": "stdout",
     "output_type": "stream",
     "text": [
      "Fold 1\n",
      "Training finished for fold 1.\n",
      "Fold 2\n",
      "Training finished for fold 2.\n",
      "Fold 3\n",
      "Training finished for fold 3.\n",
      "Fold 4\n",
      "Training finished for fold 4.\n",
      "Fold 5\n",
      "Training finished for fold 5.\n"
     ]
    }
   ],
   "source": [
    "k = np.linspace(1,20,20,dtype=(int))\n",
    "\n",
    "best_ks,val_MSEs,train_MSEs = cross_val_knn(reg_test,5,k)"
   ]
  },
  {
   "cell_type": "code",
   "execution_count": 129,
   "id": "loved-first",
   "metadata": {},
   "outputs": [
    {
     "name": "stdout",
     "output_type": "stream",
     "text": [
      "lowest MSE k values for each individual fold: [5. 2. 3. 2. 4.]\n"
     ]
    }
   ],
   "source": [
    "print('lowest MSE k values for each individual fold:',best_ks)"
   ]
  },
  {
   "cell_type": "code",
   "execution_count": 130,
   "id": "innovative-submission",
   "metadata": {},
   "outputs": [
    {
     "data": {
      "text/plain": [
       "<function matplotlib.pyplot.show(close=None, block=None)>"
      ]
     },
     "execution_count": 130,
     "metadata": {},
     "output_type": "execute_result"
    },
    {
     "data": {
      "image/png": "[encoded data removed]",
      "text/plain": [
       "<Figure size 432x288 with 1 Axes>"
      ]
     },
     "metadata": {},
     "output_type": "display_data"
    }
   ],
   "source": [
    "plt.figure\n",
    "plt.plot(val_MSEs[0,:])\n",
    "plt.title(\"validation MSE for varying k value during fold 2\")\n",
    "plt.xlabel(\"k\")\n",
    "plt.ylabel(\"MSE\")\n",
    "plt.xticks(np.arange(0,20,1),np.arange(1,21,1))\n",
    "plt.show"
   ]
  },
  {
   "cell_type": "markdown",
   "id": "separated-garlic",
   "metadata": {},
   "source": [
    "Above is a graph to show that for fold 1, the lowest validation MSE was achieved with k=5.\n",
    "\n",
    "Below, we calculate what k value had the best validation MSE, when averaged across all 5 folds."
   ]
  },
  {
   "cell_type": "code",
   "execution_count": 131,
   "id": "virgin-aerospace",
   "metadata": {},
   "outputs": [
    {
     "name": "stdout",
     "output_type": "stream",
     "text": [
      "optimum k = 2\n"
     ]
    }
   ],
   "source": [
    "#opt_k = int(np.mean(best_ks)) #average ks and round to nearest integer\n",
    "mean_MSEs = np.mean(val_MSEs, axis=0) #mean across 5 folds\n",
    "min(mean_MSEs)\n",
    "opt_k = k[np.argmin(mean_MSEs)]\n",
    "print('optimum k =',opt_k)\n"
   ]
  },
  {
   "cell_type": "code",
   "execution_count": 132,
   "id": "round-society",
   "metadata": {},
   "outputs": [
    {
     "data": {
      "text/plain": [
       "<function matplotlib.pyplot.show(close=None, block=None)>"
      ]
     },
     "execution_count": 132,
     "metadata": {},
     "output_type": "execute_result"
    },
    {
     "data": {
      "image/png": "[encoded data removed]",
      "text/plain": [
       "<Figure size 432x288 with 1 Axes>"
      ]
     },
     "metadata": {},
     "output_type": "display_data"
    }
   ],
   "source": [
    "plt.figure\n",
    "plt.plot(np.mean(val_MSEs, axis=0))\n",
    "plt.xticks(np.arange(0,20,1),np.arange(1,21,1))\n",
    "plt.xlabel(\"k\")\n",
    "plt.ylabel(\"MSE\")\n",
    "plt.title(\"validation MSEs for averaged across 5 folds\")\n",
    "plt.show"
   ]
  },
  {
   "cell_type": "markdown",
   "id": "acoustic-means",
   "metadata": {},
   "source": [
    "This optimum k=2 value can be seen in the graph above.\n",
    "\n",
    "A small value of 2 means that the best results are obtained when we predict y values by taking the two nearest neighbours. Unlike in ridge regression, which had vastly varying optimum parameter across different folds, we can be quite certain with our k value here. The lowest MSE K values were 5, 2, 3, 2, 4. These are a lot closer unlike the lambda parameter from earlier. We can even see in the plot below that small k values performed a lot better than large k values in each individual fold, not just the average that we have plotted above. \n",
    "\n",
    "The implication of this is that our predictions when using KNN are most accurate when we only average values from two nearest neighbours. This suggests that, if our data could be visualised in some 17 (number of features) dimensional space, then the data points are quite sparsely distributed. The points being relatively far away from each other would mean that averaging values from too many nearest neighbours would result in us considering some values that are very far away from the point we are trying to predict. In other words, the nearest neighbours are not that near. This results in an inaccurate estimate and bad MSE. \n",
    "\n",
    "This could also support our hypothesis on why the linear regression had a better MSE for the out of sample than the in sample; the data has so much variability.\n",
    "\n",
    "Perhaps this gives us another angle on why the linear and ridge regressions did not fit models very well. To recap, both these models had MSEs around 20. \n",
    "\n",
    "The datapoints being so widely spread could also mean that the use of ridge regularisation is not that effective. This is because the points are so vastly spread that any regression line will struggle to fit most of the data, even if the beta coefficients are shrunk."
   ]
  },
  {
   "cell_type": "code",
   "execution_count": 133,
   "id": "central-soldier",
   "metadata": {},
   "outputs": [
    {
     "data": {
      "text/plain": [
       "<function matplotlib.pyplot.show(close=None, block=None)>"
      ]
     },
     "execution_count": 133,
     "metadata": {},
     "output_type": "execute_result"
    },
    {
     "data": {
      "image/png": "[encoded data removed]",
      "text/plain": [
       "<Figure size 432x288 with 1 Axes>"
      ]
     },
     "metadata": {},
     "output_type": "display_data"
    }
   ],
   "source": [
    "plt.figure\n",
    "plt.plot(val_MSEs[0,:],label=\"Fold 1\")\n",
    "plt.plot(val_MSEs[1,:],label=\"Fold 2\")\n",
    "plt.plot(val_MSEs[2,:],label=\"Fold 3\")\n",
    "plt.plot(val_MSEs[3,:],label=\"Fold 4\")\n",
    "plt.plot(val_MSEs[4,:],label=\"Fold 5\")\n",
    "plt.xticks(np.arange(0,20,1),np.arange(1,21,1))\n",
    "plt.xlabel(\"k\")\n",
    "plt.ylabel(\"MSE\")\n",
    "plt.title(\"validation MSEs for all 5 folds\")\n",
    "plt.legend()\n",
    "plt.show\n",
    "\n"
   ]
  },
  {
   "cell_type": "code",
   "execution_count": 134,
   "id": "widespread-investment",
   "metadata": {},
   "outputs": [
    {
     "data": {
      "text/plain": [
       "<function matplotlib.pyplot.show(close=None, block=None)>"
      ]
     },
     "execution_count": 134,
     "metadata": {},
     "output_type": "execute_result"
    },
    {
     "data": {
      "image/png": "[encoded data removed]",
      "text/plain": [
       "<Figure size 432x288 with 1 Axes>"
      ]
     },
     "metadata": {},
     "output_type": "display_data"
    }
   ],
   "source": [
    "plt.figure\n",
    "plt.plot(train_MSEs[0,:],label=\"Fold 1\")\n",
    "plt.plot(train_MSEs[1,:],label=\"Fold 2\")\n",
    "plt.plot(train_MSEs[2,:],label=\"Fold 3\")\n",
    "plt.plot(train_MSEs[3,:],label=\"Fold 4\")\n",
    "plt.plot(train_MSEs[4,:],label=\"Fold 5\")\n",
    "plt.xlabel(\"k\")\n",
    "plt.ylabel(\"MSE\")\n",
    "plt.title(\"training MSEs for all 5 folds\")\n",
    "plt.xticks(np.arange(0,20,1),np.arange(1,21,1))\n",
    "plt.legend()\n",
    "\n",
    "plt.show"
   ]
  },
  {
   "cell_type": "code",
   "execution_count": 135,
   "id": "grand-fancy",
   "metadata": {},
   "outputs": [
    {
     "name": "stdout",
     "output_type": "stream",
     "text": [
      "KNN in sample MSE: 3.973725247524753\n",
      "KNN out of sample MSE: 13.935808823529408\n"
     ]
    }
   ],
   "source": [
    "resids = yr_train - knn_reg_predict(np.asarray(xr_train),np.asarray(xr_train),np.asarray(yr_train),k=opt_k)\n",
    "MSE = np.mean(resids**2)\n",
    "print('KNN in sample MSE:',MSE)\n",
    "\n",
    "\n",
    "\n",
    "resids = yr_test - knn_reg_predict(np.asarray(xr_test),np.asarray(xr_train),np.asarray(yr_train),k=opt_k)\n",
    "MSE = np.mean(resids**2)\n",
    "print('KNN out of sample MSE:',MSE)"
   ]
  },
  {
   "cell_type": "markdown",
   "id": "civil-friday",
   "metadata": {},
   "source": [
    "The MSE values for KNN are vastly better than the linear and ridge regression. The in sample MSE value being high is not that significant since KNN will always have small MSE when you choose k to be small. In fact, the in sample MSE will be 0 if k=1 (see graph above for the training MSEs during cross validation) since you are just taking the exact value as the prediction. \n",
    "\n",
    "Though the out of sample MSE being better than the linear and ridge is worth mentioning. It almost 50% of the other two methods' MSEs. \n",
    "\n",
    "With this result it is probably safe to conclude that the datapoints are sparse (when viewed in the full feature space). Thus it was not very suitable for linear or ridge regression methods, but is suitable for KNN.\n",
    "\n",
    "In real life terms, this says that median house price does not have a very strong linear relationship to the features that we have been given in the dataset. Unfortunately, we do not have feature labels, so it is hard to hypothesise further. Though it is not unheard of for some houses to have many similar features, but a very different price. This is because some features are hard to quantify on a continuous scale. Examples of these could be location- we could measure distance from the city centre, but this isnt robust to cases like Canary Wharf in London, which has much cheaper housing surrounding it, despite being the same proximity to central London. Other variables that are hard to quantify are the aesthetics of the interior and exterior, if renovations have been done etc."
   ]
  },
  {
   "cell_type": "markdown",
   "id": "acquired-interval",
   "metadata": {},
   "source": [
    "## Classification"
   ]
  },
  {
   "cell_type": "markdown",
   "id": "excellent-thesis",
   "metadata": {},
   "source": [
    "In this next section, we will use classification algorithms to model data. This context is predicting whether a loan was given and the last column in the dataset below represents this result."
   ]
  },
  {
   "cell_type": "code",
   "execution_count": 136,
   "id": "psychological-profession",
   "metadata": {},
   "outputs": [
    {
     "data": {
      "text/html": [
       "<div>\n",
       "<style scoped>\n",
       "    .dataframe tbody tr th:only-of-type {\n",
       "        vertical-align: middle;\n",
       "    }\n",
       "\n",
       "    .dataframe tbody tr th {\n",
       "        vertical-align: top;\n",
       "    }\n",
       "\n",
       "    .dataframe thead th {\n",
       "        text-align: right;\n",
       "    }\n",
       "</style>\n",
       "<table border=\"1\" class=\"dataframe\">\n",
       "  <thead>\n",
       "    <tr style=\"text-align: right;\">\n",
       "      <th></th>\n",
       "      <th>0</th>\n",
       "      <th>1</th>\n",
       "      <th>2</th>\n",
       "      <th>3</th>\n",
       "      <th>4</th>\n",
       "      <th>5</th>\n",
       "      <th>6</th>\n",
       "      <th>7</th>\n",
       "      <th>8</th>\n",
       "      <th>9</th>\n",
       "      <th>10</th>\n",
       "      <th>11</th>\n",
       "    </tr>\n",
       "  </thead>\n",
       "  <tbody>\n",
       "    <tr>\n",
       "      <th>0</th>\n",
       "      <td>0.205882</td>\n",
       "      <td>0.50</td>\n",
       "      <td>0.069055</td>\n",
       "      <td>0.0</td>\n",
       "      <td>0.5</td>\n",
       "      <td>1.000000</td>\n",
       "      <td>0.333333</td>\n",
       "      <td>1.000000</td>\n",
       "      <td>0.232143</td>\n",
       "      <td>1.000000</td>\n",
       "      <td>1.0</td>\n",
       "      <td>1.0</td>\n",
       "    </tr>\n",
       "    <tr>\n",
       "      <th>1</th>\n",
       "      <td>0.382353</td>\n",
       "      <td>0.00</td>\n",
       "      <td>0.238418</td>\n",
       "      <td>0.0</td>\n",
       "      <td>0.5</td>\n",
       "      <td>0.333333</td>\n",
       "      <td>0.333333</td>\n",
       "      <td>0.000000</td>\n",
       "      <td>0.232143</td>\n",
       "      <td>0.666667</td>\n",
       "      <td>0.0</td>\n",
       "      <td>1.0</td>\n",
       "    </tr>\n",
       "    <tr>\n",
       "      <th>2</th>\n",
       "      <td>0.558824</td>\n",
       "      <td>1.00</td>\n",
       "      <td>0.208650</td>\n",
       "      <td>0.5</td>\n",
       "      <td>0.5</td>\n",
       "      <td>1.000000</td>\n",
       "      <td>1.000000</td>\n",
       "      <td>0.000000</td>\n",
       "      <td>0.303571</td>\n",
       "      <td>0.666667</td>\n",
       "      <td>1.0</td>\n",
       "      <td>1.0</td>\n",
       "    </tr>\n",
       "    <tr>\n",
       "      <th>3</th>\n",
       "      <td>0.338235</td>\n",
       "      <td>0.00</td>\n",
       "      <td>0.277484</td>\n",
       "      <td>0.0</td>\n",
       "      <td>0.0</td>\n",
       "      <td>0.333333</td>\n",
       "      <td>1.000000</td>\n",
       "      <td>0.333333</td>\n",
       "      <td>0.553571</td>\n",
       "      <td>0.666667</td>\n",
       "      <td>1.0</td>\n",
       "      <td>0.0</td>\n",
       "    </tr>\n",
       "    <tr>\n",
       "      <th>4</th>\n",
       "      <td>0.250000</td>\n",
       "      <td>0.75</td>\n",
       "      <td>0.115715</td>\n",
       "      <td>0.0</td>\n",
       "      <td>0.5</td>\n",
       "      <td>0.000000</td>\n",
       "      <td>1.000000</td>\n",
       "      <td>0.333333</td>\n",
       "      <td>0.500000</td>\n",
       "      <td>0.666667</td>\n",
       "      <td>0.0</td>\n",
       "      <td>1.0</td>\n",
       "    </tr>\n",
       "  </tbody>\n",
       "</table>\n",
       "</div>"
      ],
      "text/plain": [
       "         0     1         2    3    4         5         6         7         8   \\\n",
       "0  0.205882  0.50  0.069055  0.0  0.5  1.000000  0.333333  1.000000  0.232143   \n",
       "1  0.382353  0.00  0.238418  0.0  0.5  0.333333  0.333333  0.000000  0.232143   \n",
       "2  0.558824  1.00  0.208650  0.5  0.5  1.000000  1.000000  0.000000  0.303571   \n",
       "3  0.338235  0.00  0.277484  0.0  0.0  0.333333  1.000000  0.333333  0.553571   \n",
       "4  0.250000  0.75  0.115715  0.0  0.5  0.000000  1.000000  0.333333  0.500000   \n",
       "\n",
       "         9    10   11  \n",
       "0  1.000000  1.0  1.0  \n",
       "1  0.666667  0.0  1.0  \n",
       "2  0.666667  1.0  1.0  \n",
       "3  0.666667  1.0  0.0  \n",
       "4  0.666667  0.0  1.0  "
      ]
     },
     "execution_count": 136,
     "metadata": {},
     "output_type": "execute_result"
    }
   ],
   "source": [
    "cls_test = pd.read_csv(\"/home/juser/Downloads/classification_test(1).csv\",header=None) #load data\n",
    "cls_train = pd.read_csv(\"/home/juser/Downloads/classification_train(1).csv\",header=None) #no headers\n",
    "\n",
    "cls_test.head()\n",
    "\n",
    "#add column 1s"
   ]
  },
  {
   "cell_type": "markdown",
   "id": "characteristic-weather",
   "metadata": {},
   "source": [
    "### Logistic regression"
   ]
  },
  {
   "cell_type": "markdown",
   "id": "genuine-journalist",
   "metadata": {},
   "source": [
    "Our first method is logistic regression. The logistic function is  \n",
    "$$\n",
    "f(x) = \\frac{1}{1+e^{-x}}\n",
    "$$\n",
    "\n",
    "and we will apply this function to a predicted value like:\n",
    "\n",
    "$$\n",
    "\\hat{\\boldsymbol y}_{\\text{log}} = f(\\boldsymbol \\beta^T \\boldsymbol X + \\beta_0)\n",
    "$$\n",
    "\n",
    "where we have estimated the betas\n",
    "\n",
    "So that we have a binary classification and not some regression, we set a decision threshold. We round everything above this number to 1, and everything below to 0."
   ]
  },
  {
   "cell_type": "code",
   "execution_count": 137,
   "id": "tracked-grounds",
   "metadata": {},
   "outputs": [],
   "source": [
    "def logistic(x):\n",
    "    return 1 / (1 + np.exp(-x)) #the sigmoid function\n",
    "\n",
    "def predict_log(X, beta, beta_0):\n",
    "    y_log = logistic(beta.T @ X + beta_0) #logistic of linear model\n",
    "    return y_log\n",
    "\n",
    "def initialise(d):\n",
    "    \"\"\"    \n",
    "    Argument:\n",
    "    d: size of the beta vector (or number of parameters)\n",
    "\n",
    "    Returns:\n",
    "    beta: initialised vector of shape (d, 1)\n",
    "    beta_0: initialised scalar (corresponds to the offset)\n",
    "    \"\"\"\n",
    "\n",
    "    beta = np.zeros(shape=(d, 1), dtype=np.float32)\n",
    "    beta_0 = 0\n",
    "\n",
    "    assert(beta.shape==(d, 1)) #check betas\n",
    "    assert(isinstance(beta_0, float) or isinstance(beta_0, int))\n",
    "\n",
    "    return beta, beta_0"
   ]
  },
  {
   "cell_type": "code",
   "execution_count": 138,
   "id": "decimal-advertising",
   "metadata": {},
   "outputs": [],
   "source": [
    "def propagate(X, y, beta, beta_0):\n",
    "    \"\"\"\n",
    "    Arguments:\n",
    "    X: data of size (d, n)\n",
    "    y: true label vector of size (1, n)\n",
    "    beta: parameters, a numpy array of size (d, 1)\n",
    "    beta_0: offset, a scalar\n",
    "\n",
    "    Returns:\n",
    "    cost: negative log-likelihood cost for logistic regression\n",
    "    dbeta: gradient of the loss with respect to beta\n",
    "    dbeta_0: gradient of the loss with respect to beta_0\n",
    "    \"\"\"\n",
    "    n = X.shape[1]\n",
    "    y_log = predict_log(X, beta, beta_0)\n",
    "\n",
    "    # cost function\n",
    "    cost = (-1) * np.mean(np.multiply(y, np.log(y_log)) + np.multiply(1-y, np.log(1 - y_log)), axis=1) \n",
    "\n",
    "    # derivatives\n",
    "    dbeta = (1/n) * X @ np.transpose(y_log - y)  \n",
    "    dbeta_0 =  np.mean((y_log - y)) \n",
    "\n",
    "    assert(dbeta.shape==beta.shape)\n",
    "    assert(dbeta_0.dtype==float)\n",
    "    cost = np.squeeze(cost)\n",
    "    assert(cost.shape==())\n",
    "\n",
    "    # store gradients in a dictionary, useful so we can call dbeta and dbeta0 separately\n",
    "    grads = {\"dbeta\": dbeta, \"dbeta_0\": dbeta_0} \n",
    "\n",
    "    return grads, cost\n",
    "\n",
    "def optimise(X, y, beta, beta_0, num_iterations=5000, learning_rate=0.005, print_cost=False):\n",
    "    \"\"\"\n",
    "    Arguments:\n",
    "    X: data of size (d, n)\n",
    "    y: true label vector of size (1, n)\n",
    "    beta: parameters, a numpy array of size (d, 1)\n",
    "    beta_0: offset, a scalar\n",
    "    num_iterations: number of iterations gradient descent shall update the parameters\n",
    "    learning_rate: step size in updating procedure\n",
    "    print_cost: whether to print the cost every 100 iterations or not\n",
    "\n",
    "    Returns:\n",
    "    params: dictionary containing the parameters beta and offset beta_0\n",
    "    grads: dictionary containing the gradients\n",
    "    costs: list of all the costs computed during the optimisation (can be used to plot the learning curve).\n",
    "    \"\"\"\n",
    "    costs = []\n",
    "\n",
    "    for i in range(num_iterations):\n",
    "\n",
    "        # calculate cost and gradients\n",
    "        grads, cost = propagate(X, y, beta, beta_0)  \n",
    "\n",
    "        # retrieve derivatives from grads\n",
    "        dbeta = grads[\"dbeta\"] #call from dict\n",
    "        dbeta_0 = grads[\"dbeta_0\"]\n",
    "\n",
    "        # updating procedure\n",
    "        beta = beta - learning_rate * dbeta  #gradient descent\n",
    "        beta_0 = beta_0 - learning_rate * dbeta_0  \n",
    "\n",
    "        # record the costs\n",
    "        if i % 100 == 0:\n",
    "            costs.append(cost)\n",
    "\n",
    "        # print the cost every 100 iterations\n",
    "        if print_cost and i % 100 == 0:\n",
    "            print (\"cost after iteration %i: %f\" %(i, cost))\n",
    "\n",
    "    # save parameters and gradients in dictionary\n",
    "    params = {\"beta\": beta, \"beta_0\": beta_0}\n",
    "    grads = {\"dbeta\": dbeta, \"dbeta_0\": dbeta_0}\n",
    "\n",
    "    return params, grads, costs"
   ]
  },
  {
   "cell_type": "code",
   "execution_count": 153,
   "id": "wooden-arrow",
   "metadata": {},
   "outputs": [],
   "source": [
    "def log_predict(X_test, beta, beta_0,d_thresh=0.5):\n",
    "    \"\"\"\n",
    "    Arguments:\n",
    "    X_test: test data of size (d, n)\n",
    "    beta: parameters, a numpy array of size (d, 1)\n",
    "    beta_0: offset, a scalar\n",
    "\n",
    "    Returns:\n",
    "    y_pred: vector containing all binary predictions (0/1) for the examples in X_test\n",
    "    \"\"\"\n",
    "    n = X_test.shape[1]\n",
    "    y_pred = np.zeros((1,n))\n",
    "    beta = beta.reshape(X_test.shape[0], 1)\n",
    "\n",
    "    # compute vector y_log predicting the probabilities\n",
    "    y_log = predict_log(X_test, beta, beta_0)\n",
    "\n",
    "    for i in range(y_log.shape[1]):\n",
    "\n",
    "        # convert probabilities y_log to actual predictions y_pred\n",
    "        if y_log[0, i] > d_thresh: #adjustable decision threshhold\n",
    "            y_pred[0, i] = 1 \n",
    "        else:\n",
    "            y_pred[0, i] = 0  \n",
    "\n",
    "    assert(y_pred.shape==(1, n))\n",
    "\n",
    "    return y_pred\n",
    "#calculate betas elsewhere?\n",
    "\n",
    "def log_model(X_train, y_train, X_test, y_test, d_thresh, num_iterations=5000, learning_rate=0.5, print_cost=False,print_acc=False):\n",
    "    # initialize parameters with zeros\n",
    "    beta, beta_0 = initialise(X_train.shape[0])\n",
    "\n",
    "    # gradient descent\n",
    "    parameters, grads, costs = optimise(X_train, y_train, beta, beta_0, num_iterations, learning_rate, print_cost=False)\n",
    "\n",
    "    # retrieve parameters beta and beta_0 from dictionary \"parameters\"\n",
    "    beta = parameters[\"beta\"]\n",
    "    beta_0 = parameters[\"beta_0\"]\n",
    "\n",
    "    # predict test and train set examples\n",
    "    y_pred_test = log_predict(X_test, beta, beta_0,d_thresh)\n",
    "    y_pred_train = log_predict(X_train, beta, beta_0,d_thresh)\n",
    "\n",
    "    # print train/test Errors\n",
    "    if print_acc==True:\n",
    "        print(\"train mean accuracy: {} %\".format(100 - np.mean(np.abs(y_pred_train - y_train)) * 100))\n",
    "        print(\"test mean accuracy: {} %\".format(100 - np.mean(np.abs(y_pred_test - y_test)) * 100))\n",
    "\n",
    "    # saving all information\n",
    "    d = {\"costs\": costs, \"y_pred_test\": y_pred_test, \"y_pred_train\": y_pred_train, \"beta\": beta, \"beta_0\": beta_0, \"learning_rate\": learning_rate, \"num_iterations\": num_iterations}\n",
    "\n",
    "    return d"
   ]
  },
  {
   "cell_type": "code",
   "execution_count": 143,
   "id": "forced-kentucky",
   "metadata": {},
   "outputs": [],
   "source": [
    "def cross_val_log(data, l_rates, d_threshs, num_folds=5, num_iterations=5000,seed=25):\n",
    "    \n",
    "    np.random.seed(25)\n",
    "    \n",
    "    folds = cross_val_split(data, num_folds) #split data into shuffled folds\n",
    "    \n",
    "    #preallocate spaces\n",
    "    train_accs = np.zeros((num_folds,len(l_rates),len(d_threshs))) #each row is a fold, each column is a lambda value\n",
    "    \n",
    "    val_accs = np.zeros((num_folds,len(l_rates),len(d_threshs))) #to validate on later\n",
    "    best_accs = float(np.inf)* np.ones(num_folds) #variable that stores best acc to check if better parameters found\n",
    "    best_d = np.zeros(num_folds) #stores best threshold for each fold\n",
    "    best_l = np.zeros(num_folds) #stores best learning rate for each fold\n",
    "\n",
    "    for i in range(len(folds)): #for each fold\n",
    "        print('Fold', i+1)\n",
    "        # define the training set\n",
    "        train_set = np.delete(np.asarray(folds).reshape(len(folds), folds[0].shape[0], folds[0].shape[1]), i, axis=0) #leave one out?\n",
    "        train_folds = train_set.reshape(len(train_set)*train_set[0].shape[0], train_set[0].shape[1]) #merge back into 2d array\n",
    "        X_train = train_folds[:,:-1] #all but last column are variables\n",
    "        y_train = train_folds[:, -1] #last column is median salary response\n",
    "        \n",
    "        val_fold = folds[i] #call back the left out fold\n",
    "        X_val = val_fold[:,:-1]\n",
    "        y_val = val_fold[:, -1] #last column is response\n",
    "        \n",
    "        \n",
    "        X_train= X_train.T\n",
    "        X_val = X_val.T\n",
    "        \n",
    "        for dt in range(len(d_threshs)):#for each decision threshold\n",
    "            for lr in range(len(l_rates)): #for each learning rate\n",
    "                \n",
    "                d = log_model(X_train,y_train,X_val,y_val,d_threshs[dt],num_iterations,l_rates[lr],)\n",
    "                #X_test\n",
    "                test_acc = 100 - np.mean(np.abs(d[\"y_pred_test\"] - y_val)) * 100\n",
    "                val_accs[i,lr,dt] = test_acc\n",
    "                \n",
    "\n",
    "                if test_acc < best_accs[i]: #if MSE for this fold and lambda is better than any MSE of this fold\n",
    "                    best_accs[i] = test_acc\n",
    "                    best_d[i] = d_threshs[dt]\n",
    "                    best_l[i] = l_rates[lr]\n",
    "\n",
    "                #print(\"accuracy on validation set #{}: {}, d={}, l={}\".format(i+1, test_acc,d_threshs[dt],l_rates[lr]))\n",
    "            \n",
    "        print(\"Training finished for fold {}.\".format(i+1))\n",
    "        \n",
    "    return best_d, best_l, val_accs \n",
    "            \n",
    "    \n",
    "    "
   ]
  },
  {
   "cell_type": "markdown",
   "id": "saving-expense",
   "metadata": {},
   "source": [
    "The code below is quite slow. Given more time, there are definitely speed improvements to be found here. The use of two nested loops is the main culprit. The beta calculations are also independent of learning rate and if the code was rewritten, we could calculate the betas inside the first loop, and not the second loop."
   ]
  },
  {
   "cell_type": "code",
   "execution_count": 144,
   "id": "representative-sweden",
   "metadata": {},
   "outputs": [
    {
     "name": "stdout",
     "output_type": "stream",
     "text": [
      "Fold 1\n",
      "Training finished for fold 1.\n",
      "Fold 2\n",
      "Training finished for fold 2.\n",
      "Fold 3\n",
      "Training finished for fold 3.\n",
      "Fold 4\n",
      "Training finished for fold 4.\n",
      "Fold 5\n",
      "Training finished for fold 5.\n"
     ]
    }
   ],
   "source": [
    "l_rates= np.linspace(0.01,2,10) #set parameter ranges\n",
    "d_threshs = np.linspace(0.1,0.9,9)\n",
    "\n",
    "cvl = cross_val_log(cls_test,l_rates,d_threshs, num_iterations=1000) #cross val, less iterations to speed up grid search"
   ]
  },
  {
   "cell_type": "markdown",
   "id": "center-madison",
   "metadata": {},
   "source": [
    "We have just explored a broad hyperparameter space and have a heatmap plot below to see where we can zone in to do a slightly more accurate hyperparameter optimisation."
   ]
  },
  {
   "cell_type": "code",
   "execution_count": 145,
   "id": "spatial-digest",
   "metadata": {},
   "outputs": [
    {
     "data": {
      "text/plain": [
       "[Text(0.5, 12.5, 'decision threshold'), Text(30.5, 0.5, 'learning rate')]"
      ]
     },
     "execution_count": 145,
     "metadata": {},
     "output_type": "execute_result"
    },
    {
     "data": {
      "image/png": "[encoded data removed]",
      "text/plain": [
       "<Figure size 432x288 with 2 Axes>"
      ]
     },
     "metadata": {},
     "output_type": "display_data"
    }
   ],
   "source": [
    "#plot\n",
    "accplot = np.mean(cvl[2], axis=0) #this takes the mean accuracies across the 5 folds\n",
    "plt.title(\"heatmap for mean accuracy\")\n",
    "xticks = np.ndarray.tolist(np.round(d_threshs,1)) #set ticks\n",
    "yticks = np.ndarray.tolist(np.round(l_rates,2))\n",
    "ax = sns.heatmap(accplot,xticklabels=xticks,yticklabels=yticks) #heatmap\n",
    "ax.set(xlabel='decision threshold', ylabel='learning rate') "
   ]
  },
  {
   "cell_type": "markdown",
   "id": "parliamentary-armstrong",
   "metadata": {},
   "source": [
    "We narrow down our grid search."
   ]
  },
  {
   "cell_type": "code",
   "execution_count": 146,
   "id": "caring-accused",
   "metadata": {},
   "outputs": [
    {
     "name": "stdout",
     "output_type": "stream",
     "text": [
      "Fold 1\n",
      "Training finished for fold 1.\n",
      "Fold 2\n",
      "Training finished for fold 2.\n",
      "Fold 3\n",
      "Training finished for fold 3.\n",
      "Fold 4\n",
      "Training finished for fold 4.\n",
      "Fold 5\n",
      "Training finished for fold 5.\n"
     ]
    }
   ],
   "source": [
    "l_rates= np.linspace(0.1,1.3,10) #new parameter space\n",
    "d_threshs = np.linspace(0.3,0.6,9) #smaller steps\n",
    "cvl = cross_val_log(cls_test,l_rates,d_threshs, num_iterations=1000)\n"
   ]
  },
  {
   "cell_type": "code",
   "execution_count": 148,
   "id": "frank-action",
   "metadata": {},
   "outputs": [
    {
     "data": {
      "text/plain": [
       "[Text(0.5, 12.5, 'decision threshold'), Text(30.5, 0.5, 'learning rate')]"
      ]
     },
     "execution_count": 148,
     "metadata": {},
     "output_type": "execute_result"
    },
    {
     "data": {
      "image/png": "[encoded data removed]",
      "text/plain": [
       "<Figure size 432x288 with 2 Axes>"
      ]
     },
     "metadata": {},
     "output_type": "display_data"
    }
   ],
   "source": [
    "#second heatmap\n",
    "accplot = np.mean(cvl[2], axis=0)\n",
    "plt.title(\"heatmap for mean accuracy\")\n",
    "xticks = np.ndarray.tolist(np.round(d_threshs,2))\n",
    "yticks = np.ndarray.tolist(np.round(l_rates,2))\n",
    "ax = sns.heatmap(accplot,xticklabels=xticks,yticklabels=yticks)\n",
    "ax.set(xlabel='decision threshold', ylabel='learning rate')"
   ]
  },
  {
   "cell_type": "markdown",
   "id": "affiliated-seventh",
   "metadata": {},
   "source": [
    "There happens to be a few combinations that each have a 75% accuracy. For learning rate we will take 0.9 since this is the median parameter for the combinations that reached 75% accuracy. For the decision threshold, we can tell our value is supposed to be closer to 0.5 than the extreme ends, but skewed slightly towards 0. This would suggest that we get a better accuracy if we lower our threshold at which a prediction is rounded up to a 1. \n",
    "\n",
    "Before we continue, we check how balanced our data is."
   ]
  },
  {
   "cell_type": "code",
   "execution_count": 149,
   "id": "acceptable-riding",
   "metadata": {},
   "outputs": [
    {
     "name": "stdout",
     "output_type": "stream",
     "text": [
      "proportion of 1s: 0.685\n"
     ]
    }
   ],
   "source": [
    "print('proportion of 1s:',sum(cls_test.iloc[:,11])/len(cls_test)) #count how many 1s in train data\n"
   ]
  },
  {
   "cell_type": "markdown",
   "id": "disciplinary-playing",
   "metadata": {},
   "source": [
    "The dataset we have is a bit unbalanced; there are more 1s than 0s. So right now it is unclear if the below 0.5 threshold is effective because the data is unbalanced, or because the banks granting credit were a bit generous/greedy. \n",
    "\n",
    "So there is a chance that our cross validation has skewed us towards a smaller decision threshold since better accuracy can be found simply by predicting more 1s than 0s. Because of this, we will check both 0.45 and 0.41 below. Though, as far as our cross validated grid search goes, 0.41 looks to be the best parameter.\n"
   ]
  },
  {
   "cell_type": "code",
   "execution_count": 155,
   "id": "legitimate-health",
   "metadata": {},
   "outputs": [
    {
     "name": "stdout",
     "output_type": "stream",
     "text": [
      "decision threshold:0.45\n",
      "train mean accuracy: 75.0 %\n",
      "test mean accuracy: 72.5 %\n",
      "decision threshold:0.41\n",
      "train mean accuracy: 73.125 %\n",
      "test mean accuracy: 73.0 %\n"
     ]
    }
   ],
   "source": [
    "X_train = np.array(cls_train.iloc[:,:-1]).T #need to convert df into array and then transpose!\n",
    "X_test = np.array(cls_test.iloc[:,:-1]).T\n",
    "\n",
    "y_train = np.array(cls_train.iloc[:,-1]) #ys do not need transpose\n",
    "y_test = np.array(cls_test.iloc[:,-1])\n",
    "\n",
    "print('decision threshold:0.45')\n",
    "d45 = log_model(X_train, y_train, X_test, y_test, d_thresh=0.45, num_iterations=5000, learning_rate=0.9, print_cost=False, print_acc=True)\n",
    "print('decision threshold:0.41')\n",
    "d41 = log_model(X_train, y_train, X_test, y_test, d_thresh=0.41, num_iterations=5000, learning_rate=0.9, print_cost=False, print_acc=True)"
   ]
  },
  {
   "cell_type": "markdown",
   "id": "grateful-lawyer",
   "metadata": {},
   "source": [
    "The results from both decision thresholds happen to be very similar. In fact, both happen to work well. 0.41 is marginally better. It has a worse training mean accuracy, but a better test mean accuracy. The test result is more important."
   ]
  },
  {
   "cell_type": "markdown",
   "id": "improved-trader",
   "metadata": {},
   "source": [
    "The next stage, we will use a random forest for classification.\n",
    "\n",
    "The random forest works by taking multiple bootstrap (with replacement) samples of the data, and then training a decision tree on each sample. The splits on a classical decision tree are a greedy algorithm, and to improve upon this, our random forest will randomise at each split. It will only consider a subset of the features to split upon. Finally we have an ensemble of trees and we aggregate/average their prediction when given feature data.\n",
    "\n",
    "To determine which variable, within this random subset, is best to split on, we use cross entropy:\n",
    "\n",
    "$$\\sum_{x \\in X}p(x) log(p(x))$$"
   ]
  },
  {
   "cell_type": "markdown",
   "id": "distinct-racing",
   "metadata": {},
   "source": [
    "The functions below calculate cross entropy for us"
   ]
  },
  {
   "cell_type": "code",
   "execution_count": 156,
   "id": "immediate-hughes",
   "metadata": {},
   "outputs": [],
   "source": [
    "\n",
    "#random forest\n",
    "def cross_entropy(y, sample_weights=None):\n",
    "    \"\"\" \n",
    "    Calculate the cross entropy for labels.\n",
    "    Arguments:\n",
    "      y: vector of training labels, of shape (N,).\n",
    "      sample_weights: weights for each samples, of shape (N,).\n",
    "    Returns:\n",
    "      (float): the gini impurity for y.\n",
    "    \"\"\"\n",
    "    if sample_weights is None:\n",
    "        sample_weights = np.ones(y.shape[0]) / y.shape[0]\n",
    "\n",
    "    entropy = 0 #change to zero\n",
    "    num = y.shape[0]  # number of labels\n",
    "    label_counts = {}  # caculate different labels in y，and store in label_counts\n",
    "    for i in range(num):\n",
    "        if y[i] not in label_counts.keys():\n",
    "            label_counts[y[i]] = 0\n",
    "        label_counts[y[i]] += sample_weights[i]\n",
    "\n",
    "    for key in label_counts:\n",
    "        prob = float(label_counts[key]) / float(np.sum(sample_weights))\n",
    "        entropy -= prob * np.log(prob) #crossentropy\n",
    "        \n",
    "    #print('entropy',entropy)\n",
    "    return entropy\n",
    "\n",
    "def new_entropy(X, y, column, value, sample_weights=None):\n",
    "    \"\"\"\n",
    "    Calculate the resulted gini impurity given a vector of features.\n",
    "    Arguments:\n",
    "      X: training features, of shape (N, D).\n",
    "      y: vector of training labels, of shape (N,).\n",
    "      column: the column of the feature for calculating. 0 <= column < D\n",
    "      sample_weights: weights for each samples, of shape (N,).\n",
    "    Returns:\n",
    "      (float): the resulted gini impurity after splitting by this feature.\n",
    "    \"\"\"\n",
    "    if sample_weights is None:\n",
    "        sample_weights = np.ones(y.shape[0]) / y.shape[0]\n",
    "\n",
    "    new_entropy = 0\n",
    "    old_cost = cross_entropy(y, sample_weights)\n",
    "    print('oc',old_cost)\n",
    "\n",
    "    unique_vals = np.unique(X[:, column])\n",
    "    new_cost = 0.0\n",
    "    #split the values of i-th feature and calculate the cost \n",
    "    # for value in unique_vals:\n",
    "    #     sub_X, sub_y, sub_sample_weights = split_dataset(X, y, column, value, sample_weights) #\n",
    "    #     prob = np.sum(sub_sample_weights) / float(np.sum(sample_weights))\n",
    "    #     new_cost += prob * cross_entropy(sub_y, sub_sample_weights) #\n",
    "    \n",
    "    for sub_X, sub_y, sub_sample_weights in split_dataset2(X, y, column, value, sample_weights):\n",
    "        print('ssw',sub_sample_weights)\n",
    "        prob = np.sum(sub_sample_weights) / float(np.sum(sample_weights))\n",
    "        print('prob',prob)\n",
    "        new_cost += prob * cross_entropy(sub_y, sub_sample_weights)\n",
    "    \n",
    "    print('nc',new_cost)\n",
    "    new_entropy = old_cost - new_cost # information gain\n",
    "\n",
    "    return new_entropy"
   ]
  },
  {
   "cell_type": "markdown",
   "id": "nominated-geometry",
   "metadata": {},
   "source": [
    "The next set of functions are used to split the dataset. These work together by calculating the cross entropy for each feature on a subset of the features. Entropy is used so that we can find which feature has a lot of information, or disorder. We test our binary split on all the possible values in this feature vector and then split on the feature and value that gives us the biggest distinction between the resulting two groups."
   ]
  },
  {
   "cell_type": "code",
   "execution_count": 157,
   "id": "occupational-standard",
   "metadata": {},
   "outputs": [],
   "source": [
    "def split_dataset2(X, y, column, value, sample_weights=None):\n",
    "    region1 = []\n",
    "    region2 = []\n",
    "    featVec = X[:, column]  \n",
    "    # We are removing the feature column from dataset (split), as before\n",
    "    #X = X[:,[i for i in range(X.shape[1]) if i!=column]]  \n",
    "    for i in range(len(featVec)):\n",
    "        if featVec[i] <= value:\n",
    "            region1.append(i)\n",
    "        else:\n",
    "          region2.append(i)     \n",
    "    X1 = X[region1,:]\n",
    "    y1 = y[region1]\n",
    "    X2 = X[region2,:]\n",
    "    y2 = y[region2]\n",
    "    # returns list of splits\n",
    "    if (sample_weights is None):\n",
    "          return [(X1, y1), (X2, y2)]\n",
    "    else:\n",
    "          print('elsed', sample_weights)\n",
    "          return [(X1, y1, sample_weights[region1]) , (X2, y2, sample_weights[region2])]\n",
    "\n",
    "\n",
    "def choose_best_feature(X, y, max_features=None, sample_weights=None):\n",
    "    \"\"\"\n",
    "    Choose the best feature to split according to criterion.\n",
    "    Args:\n",
    "      X: training features, of shape (N, D).\n",
    "      y: vector of training labels, of shape (N,).\n",
    "      sample_weights: weights for each samples, of shape (N,).\n",
    "    Returns:\n",
    "      (int): the column for the best feature\n",
    "    \"\"\"\n",
    "    if sample_weights is None:\n",
    "        sample_weights = np.ones(y.shape[0]) / y.shape[0]\n",
    "        \n",
    "    if max_features is None: #non random forest\n",
    "        features = np.arange(X.shape[1]) \n",
    "    else: #set max_features to number less than number of features \n",
    "        features = np.random.choice(np.arange(X.shape[1]),size=max_features, replace=False) #select without replacement features\n",
    "\n",
    "\n",
    "    best_feature_idx = None # init random number\n",
    "    value = None\n",
    "\n",
    "    # use C4.5 algorirhm, modified for randomisation\n",
    "    best_gain_cost = 0.0\n",
    "    print('features',features)\n",
    "    for i in range(len(features)):\n",
    "        print('feature',i)\n",
    "        unique_vals = np.unique(X[:,features[i]])\n",
    "        for v in unique_vals:\n",
    "            print('v',v)\n",
    "            print('lens',X.shape,y.shape)\n",
    "            info_gain_cost = new_entropy(X, y, features[i], v, sample_weights)  #calculating gini impurity for subset (not strict) of features        \n",
    "            print('costs',info_gain_cost, best_gain_cost)\n",
    "            print('true check',info_gain_cost >best_gain_cost)\n",
    "            if info_gain_cost > best_gain_cost:\n",
    "                best_gain_cost = info_gain_cost\n",
    "                best_feature_idx = features[i]         #index for split feature and value        \n",
    "                value = v\n",
    "    print('cbf out', best_feature_idx)                \n",
    "    return best_feature_idx,value\n",
    "\n",
    "def majority_vote(y, sample_weights=None):\n",
    "    \"\"\"\n",
    "    Return the label which appears the most in y.\n",
    "    Args:\n",
    "      y: vector of training labels, of shape (N,).\n",
    "      sample_weights: weights for each samples, of shape (N,).\n",
    "    Returns:\n",
    "      (int): the majority label\n",
    "    \"\"\"\n",
    "    if sample_weights is None:\n",
    "        sample_weights = np.ones(y.shape[0]) / y.shape[0]\n",
    "\n",
    "    majority_label = y[0]\n",
    "    \n",
    "    dict_num = {}\n",
    "    for i in range(y.shape[0]):\n",
    "        if y[i] not in dict_num.keys():\n",
    "            dict_num[y[i]] = sample_weights[i]\n",
    "        else:\n",
    "            dict_num[y[i]] += sample_weights[i]\n",
    "\n",
    "    majority_label = max(dict_num, key=dict_num.get)\n",
    "    # end answer\n",
    "    return majority_label\n"
   ]
  },
  {
   "cell_type": "markdown",
   "id": "lightweight-knowing",
   "metadata": {},
   "source": [
    "This next function builds a tree using the above functions. It is returned as dictionary."
   ]
  },
  {
   "cell_type": "code",
   "execution_count": 158,
   "id": "south-construction",
   "metadata": {},
   "outputs": [],
   "source": [
    "\n",
    "def build_tree(X, y, feature_names, max_features, depth, sample_weights=None, max_depth=10, min_samples_leaf=2):\n",
    "    \"\"\"Build the decision tree according to the data.\n",
    "    Args:\n",
    "      X: (np.array) training features, of shape (N, D).\n",
    "      y: (np.array) vector of training labels, of shape (N,).\n",
    "      feature_names (list): record the name of features in X in the original dataset.\n",
    "      depth (int): current depth for this node.\n",
    "      sample_weights: weights for each samples, of shape (N,).\n",
    "    Returns:\n",
    "      (dict): a dict denoting the decision tree. \n",
    "      Example:\n",
    "          The first best feature name is 'title', and it has 5 different values: 0,1,2,3,4. For 'title' == 4, the next best feature name is 'pclass', we continue split the remain data. If it comes to the leaf, we use the majority_label by calling majority_vote.\n",
    "          mytree = {\n",
    "              'titile': {\n",
    "                  0: subtree0,\n",
    "                  1: subtree1,\n",
    "                  2: subtree2,\n",
    "                  3: subtree3,\n",
    "                  4: {\n",
    "                      'pclass': {\n",
    "                          1: majority_vote([1, 1, 1, 1]) # which is 1, majority_label\n",
    "                          2: majority_vote([1, 0, 1, 1]) # which is 1\n",
    "                          3: majority_vote([0, 0, 0]) # which is 0\n",
    "                      }\n",
    "                  }\n",
    "              }\n",
    "          }\n",
    "    \"\"\"\n",
    "    if sample_weights is None:\n",
    "        # if the sample weights is not provided, we assume the samples have uniform weights\n",
    "        sample_weights = np.ones(X.shape[0]) / X.shape[0]\n",
    "    else:\n",
    "        sample_weights = np.array(sample_weights) / np.sum(sample_weights)\n",
    "    \n",
    "    mytree = dict()\n",
    "    \n",
    "    # include a clause for the cases where (i) no feature, (ii) all lables are the same, \n",
    "    # (iii) depth exceed, or (iv) X is too small\n",
    "\n",
    "    if len(feature_names)==0 or len(np.unique(y))==1 or depth>=max_depth or len(X)<=min_samples_leaf: \n",
    "          mytree = { 'node':'leaf' ,  'label': majority_vote(y, sample_weights) }\n",
    "    else:  \n",
    "        best_feature_idx, value = choose_best_feature(X, y, max_features, sample_weights)\n",
    "        print('best_feat',best_feature_idx)\n",
    "        best_feature_name = feature_names[best_feature_idx]\n",
    "        feature_names = feature_names[:]\n",
    "        feature_names.remove(best_feature_name)\n",
    "        splits = split_dataset2(X, y, best_feature_idx, value, sample_weights)\n",
    "        mytree = { 'node':'split', 'feature_name':best_feature_name, 'value':value }\n",
    "        # split[i] = (subX, sub_y, sub_sample_weight)\n",
    "        mytree['left'] = build_tree(splits[0][0], splits[0][1], feature_names, max_features, depth+1, splits[0][2]) \n",
    "        mytree['right'] = build_tree(splits[1][0], splits[1][1], feature_names, max_features, depth+1, splits[1][2]) \n",
    "\n",
    "    return mytree\n"
   ]
  },
  {
   "cell_type": "code",
   "execution_count": 162,
   "id": "contrary-daisy",
   "metadata": {},
   "outputs": [],
   "source": [
    "#def newpred()\n",
    "#pred calls classpre calls class\n",
    "#class hits tree\n",
    "#classpre takes forest tree by \n",
    "#prob=[]\n",
    "#for tree in forest\n",
    "#prob.append(classify(x,tree))?\n",
    "#mean?"
   ]
  },
  {
   "cell_type": "code",
   "execution_count": 164,
   "id": "objective-hybrid",
   "metadata": {},
   "outputs": [],
   "source": [
    "\n",
    "def forest(data, num_trees, depth_trees, max_features, l_rates, seed=25, num_folds=5):\n",
    "    #load data\n",
    "    feature_names = data.columns.tolist()\n",
    "\n",
    "    \n",
    "    np.random.seed(25)#set seed for repeatability\n",
    "    \n",
    "    #split into 5 shuffled folds\n",
    "    folds = cross_val_split(data, num_folds) \n",
    "    \n",
    "    #preallocate spaces\n",
    "    #train_accs = np.zeros((num_folds,len(l_rates),len(d_threshs))) #each row is a fold, each column is a lambda value\n",
    "    \n",
    "    #val_accs = np.zeros((num_folds,len(l_rates),len(d_threshs))) #to validate on later\n",
    "    best_accs = float(np.inf)* np.ones(num_folds) #variable that stores best acc to check if better parameters found\n",
    "    best_d = np.zeros(num_folds) #stores best threshold for each fold\n",
    "    best_l = np.zeros(num_folds) #stores best learning rate for each fold\n",
    "    final_trees =[]\n",
    "\n",
    "    for i in range(len(folds)): #for each fold\n",
    "        print('Fold', i+1)\n",
    "        # define the training set\n",
    "        train_set = np.delete(np.asarray(folds).reshape(len(folds), folds[0].shape[0], folds[0].shape[1]), i, axis=0) #leave one out?\n",
    "        train_folds = train_set.reshape(len(train_set)*train_set[0].shape[0], train_set[0].shape[1]) #merge back into 2d array\n",
    "        X_train = train_folds[:,:-1] #all but last column are variables\n",
    "        y_train = train_folds[:, -1] #last column is median salary response\n",
    "        \n",
    "        val_fold = folds[i] #call back the left out fold\n",
    "        X_val = val_fold[:,:-1]\n",
    "        y_val = val_fold[:, -1] #last column is response\n",
    "        \n",
    "        N=len(X_train) #size of a single cross val training set (array rows)\n",
    "        \n",
    "        agg_trees = []\n",
    "\n",
    "        for nt in range(num_trees): #for each tree\n",
    "            #bootstrap aggregate\n",
    "            boot_i = np.random.randint(0,N-1,N) #index for bootstrap\n",
    "            X_train_bs = X_train[[boot_i],:][0] #bootstrap sample from x_train, [0] to select 2d array\n",
    "            y_train_bs = y_train[boot_i] #corresponding y labels\n",
    "            \n",
    "            for dt in range(depth_trees):\n",
    "                for mf in range(max_features):\n",
    "                    tree = build_tree(X_train_bs,y_train_bs,feature_names, max_features=(mf+1), depth = (dt+1))\n",
    "    "
   ]
  },
  {
   "cell_type": "markdown",
   "id": "varying-nature",
   "metadata": {},
   "source": [
    "Unfortunately, we were unable to finish our random forest algorithm.\n",
    "\n",
    "For an example of a confusion matrix, please see the mastery material where a confusion matrix is plotted and discussed for the sigmoid soft margin SVM."
   ]
  },
  {
   "cell_type": "markdown",
   "id": "expired-shape",
   "metadata": {},
   "source": [
    "## SVM"
   ]
  },
  {
   "cell_type": "markdown",
   "id": "alike-particle",
   "metadata": {},
   "source": [
    "The last of our methods for this coursework will be support vector machines.\n",
    "\n",
    "Our first attempt will be using a standard linear SVM with a hard margin. Our algorithm is looking for a vector of weights w and an scalar b. These define a hyperplane $$x \\cdot w +b =0$$\n",
    "\n",
    "This hyperplane will attempt to divide our data into two separate classes.\n",
    "\n",
    "This method iterates many times to try and find a plane that maximises the distances between the datapoints and the plane. This means that we have found a plane that cuts through the data in a direction nomrmal to where the two classes can be seen to be as far apart as possible. \n",
    "\n",
    "We first define hinge loss as $$\n",
    "\\mathcal L (\\boldsymbol w) = \\frac{1}{2} \\| \\boldsymbol w \\|^2 + \\frac{\\lambda}{n} \\sum_{i=1}^n \\max \\bigg( 0, 1-y_i (\\boldsymbol w \\cdot x_i + b) \\bigg) \\, .\n",
    "$$\n",
    "\n",
    "\n",
    "where $\\boldsymbol w$ is the vector of weights, $\\lambda$ the regularisation parameter, and $b$ the intercept which is included in our `X` as an additional column of $1$'s.\n",
    "\n",
    "Stochastic gradient descent updates weights with learning rate $\\alpha$ and the learning happens according to:\n",
    "\n",
    "$$\n",
    "\\boldsymbol w = \\boldsymbol w - \\alpha \\frac{\\partial \\mathcal L}{\\partial \\boldsymbol w}\n",
    "$$\n",
    "\n",
    "where $\\frac{\\partial \\mathcal L}{\\partial \\boldsymbol w}$ is the gradient of the hinge loss we have computed in the previous cell."
   ]
  },
  {
   "cell_type": "code",
   "execution_count": 165,
   "id": "understanding-tension",
   "metadata": {},
   "outputs": [],
   "source": [
    "def compute_cost(W, X, y, regul_strength=1e5):\n",
    "    n = X.shape[0]\n",
    "    distances = 1 - y * (np.dot(X, W))  #dot product\n",
    "    distances[distances < 0] = 0  # equivalent to max(0, distance)\n",
    "    hinge = regul_strength * (np.sum(distances) / n)  ##\n",
    "\n",
    "    # calculate cost\n",
    "    cost = 1 / 2 * np.dot(W, W) + hinge\n",
    "    return cost\n",
    "\n",
    "\n",
    "\n",
    "def calculate_cost_gradient(W, X_batch, y_batch, regul_strength=1e5):\n",
    "    # if only one example is passed\n",
    "    if type(y_batch) == np.float64:\n",
    "        y_batch = np.asarray([y_batch])\n",
    "        X_batch = np.asarray([X_batch])  # gives multidimensional array\n",
    "\n",
    "    distance = 1 - (y_batch * np.dot(X_batch, W))\n",
    "    dw = np.zeros(len(W))\n",
    "\n",
    "    for ind, d in enumerate(distance):\n",
    "        if max(0, d)==0:\n",
    "            di = W\n",
    "        else:\n",
    "            di = W - (regul_strength * y_batch[ind] * X_batch[ind])\n",
    "        dw += di\n",
    "\n",
    "    dw = dw/len(y_batch)  # average\n",
    "    return dw\n",
    "\n",
    "# stochastic gradient descent, regul strength 1000000, 0.5\n",
    "def sgd(X, y, max_iterations=2000, stop_criterion=0.01, learning_rate=1e-5, regul_strength=1e5, print_outcome=False):\n",
    "    # initialise zero weights\n",
    "    weights = np.zeros(X.shape[1])\n",
    "    nth = 0\n",
    "    # initialise starting cost as infinity\n",
    "    prev_cost = np.inf\n",
    "\n",
    "    # stochastic gradient descent\n",
    "    for iteration in range(1, max_iterations):\n",
    "        # shuffle to prevent repeating update cycles\n",
    "        np.random.shuffle([X, y])\n",
    "        for ind, x in enumerate(X):\n",
    "            ascent = calculate_cost_gradient(weights, x, y[ind], regul_strength) ## <-- SOLUTION\n",
    "            weights = weights - (learning_rate * ascent)\n",
    "\n",
    "        # convergence check on 2^n'th iteration\n",
    "        if iteration==2**nth or iteration==max_iterations-1:\n",
    "            # compute cost\n",
    "            cost = compute_cost(weights, X, y, regul_strength)  #add sigma later\n",
    "            if print_outcome:\n",
    "                print(\"Iteration is: {}, Cost is: {}\".format(iteration, cost))\n",
    "            # stop criterion\n",
    "            if abs(prev_cost - cost) < stop_criterion * prev_cost:\n",
    "                return weights\n",
    "\n",
    "            prev_cost = cost\n",
    "            nth += 1\n",
    "\n",
    "    return weights\n",
    "\n"
   ]
  },
  {
   "cell_type": "markdown",
   "id": "nominated-mount",
   "metadata": {},
   "source": [
    "This function below calculates F1 score, which is what we are using instead of accuracy.\n",
    "\n",
    "F1 score is defined as $$2 \\cdot \\frac{precision \\cdot recall}{precision + recall}$$\n",
    "\n",
    "Where precision is the proportion of true positives (tp) out of predicted positives and recall is the proportion of true positives out of all actual positives. This score is useful and will add a penalty to models that happen to predict a lot of true positives just because the dataset is unbalanced in favour of these results.\n",
    "\n",
    "and can be simplifed to $$\\frac{tp}{tp + 0.5(fp + fn)} $$ https://en.wikipedia.org/wiki/F-score#Definition"
   ]
  },
  {
   "cell_type": "code",
   "execution_count": 166,
   "id": "fancy-final",
   "metadata": {},
   "outputs": [],
   "source": [
    "def score(W, X, y): #F1 score\n",
    "    y_preds = np.array([])\n",
    "    for i in range(X.shape[0]):\n",
    "        y_pred = np.sign(np.dot(X[i], W))\n",
    "        y_preds = np.append(y_preds, y_pred)\n",
    "  \n",
    "    return np.float(sum(y_preds==y)) /(sum(y_preds==y) + 0.5*(sum(y_preds!=y))) # f1 score"
   ]
  },
  {
   "cell_type": "markdown",
   "id": "prescribed-albert",
   "metadata": {},
   "source": [
    "Now we cross validate and measure the performance of our linear SVM on the training data. We have set regularisation strength to be a large 1e4. This is an approximate way of setting a hard margin."
   ]
  },
  {
   "cell_type": "code",
   "execution_count": 177,
   "id": "wired-apache",
   "metadata": {},
   "outputs": [],
   "source": [
    "## EDIT THIS FUNCTION\n",
    "def cross_val_svm_old(data, num_folds,seed=10):\n",
    "  \n",
    "    np.random.seed(seed)\n",
    "    \n",
    "    folds = cross_val_split(data, num_folds)\n",
    "\n",
    "    train_scores = []\n",
    "    val_scores = []\n",
    "\n",
    "    for i in range(len(folds)):#for each fold\n",
    "        print('Fold', i+1)\n",
    "        # define the training set\n",
    "        train_set = np.delete(np.asarray(folds).reshape(len(folds), folds[0].shape[0], folds[0].shape[1]), i, axis=0)\n",
    "        train_folds = train_set.reshape(len(train_set)*train_set[0].shape[0], train_set[0].shape[1])\n",
    "        #X_train = train_folds[:,:-1]\n",
    "        X_train = standardise(train_folds[:,:-1])\n",
    "        X_train = np.hstack((X_train,np.ones((X_train.shape[0],1))))\n",
    "\n",
    "        \n",
    "        y_train = train_folds[:, -1]\n",
    "        y_train[y_train==0] = -1.0 #turn 10 to 1,-1\n",
    "        y_train = y_train.astype(float)\n",
    "        \n",
    "        \n",
    "        # define the validation set\n",
    "        val_fold = folds[i]\n",
    "        #X_val = val_fold[:,:-1]\n",
    "        X_val = standardise(val_fold[:,:-1])\n",
    "        X_val = np.hstack((X_val,np.ones((X_val.shape[0],1)))) #add an intercept column\n",
    "\n",
    "        \n",
    "        y_val = val_fold[:, -1]\n",
    "        y_val[y_val==0] = -1.0 #turn 0 to -1\n",
    "        y_val = y_val.astype(float)\n",
    "\n",
    "        #explore grid search\n",
    "        \n",
    "        # train the model\n",
    "        W = sgd(X_train, y_train, max_iterations=1025, stop_criterion=0.01, learning_rate=1e-3, regul_strength=1e4)\n",
    "        print(\"Training finished.\")\n",
    "\n",
    "        # evaluate\n",
    "        train_score = score(W, X_train, y_train)\n",
    "        val_score = score(W, X_val, y_val)\n",
    "        print(\"F1 score on train set #{}: {}\".format(i+1, train_score))\n",
    "        print(\"F1 score on validation set #{}: {}\".format(i+1, val_score))\n",
    "\n",
    "        train_scores.append(train_score)\n",
    "        val_scores.append(val_score)\n",
    "\n",
    "    return train_scores, val_scores"
   ]
  },
  {
   "cell_type": "code",
   "execution_count": 178,
   "id": "superb-calibration",
   "metadata": {},
   "outputs": [
    {
     "name": "stdout",
     "output_type": "stream",
     "text": [
      "Fold 1\n",
      "Training finished.\n",
      "F1 score on train set #1: 0.754863813229572\n",
      "F1 score on validation set #1: 0.8235294117647058\n",
      "Fold 2\n",
      "Training finished.\n",
      "F1 score on train set #2: 0.714859437751004\n",
      "F1 score on validation set #2: 0.6440677966101694\n",
      "Fold 3\n",
      "Training finished.\n",
      "F1 score on train set #3: 0.7301587301587301\n",
      "F1 score on validation set #3: 0.7301587301587301\n",
      "Fold 4\n",
      "Training finished.\n",
      "F1 score on train set #4: 0.7250996015936255\n",
      "F1 score on validation set #4: 0.6885245901639344\n",
      "Fold 5\n",
      "Training finished.\n",
      "F1 score on train set #5: 0.8732394366197183\n",
      "F1 score on validation set #5: 0.6440677966101694\n",
      "training F1 score average: 0.75964420387053\n",
      "validating F1 score average: 0.7060696650615419\n"
     ]
    }
   ],
   "source": [
    "\n",
    "\n",
    "lin_train,lin_val = cross_val_svm_old(cls_test, 5,seed=25)\n",
    "\n",
    "print('training F1 score average:', np.mean(lin_train))\n",
    "print('validating F1 score average:', np.mean(lin_val))"
   ]
  },
  {
   "cell_type": "code",
   "execution_count": 179,
   "id": "affected-mount",
   "metadata": {},
   "outputs": [],
   "source": [
    "X_train = standardise(np.asarray(cls_train.iloc[:,:-1]))\n",
    "y_train = np.asarray(cls_train.iloc[:,-1])\n",
    "X_train = np.hstack((X_train,np.ones((X_train.shape[0],1))))\n",
    "\n",
    "\n",
    "X_val = standardise(np.asarray(cls_test.iloc[:,:-1]))\n",
    "y_val = np.asarray(cls_test.iloc[:,-1])\n",
    "X_val = np.hstack((X_val,np.ones((X_val.shape[0],1))))\n",
    "\n",
    "y_train[y_train==0] = -1.0 #turn 10 to 1,-1\n",
    "y_train = y_train.astype(float)\n",
    "\n",
    "\n",
    "y_val[y_val==0] = -1.0 #turn 0 to -1\n",
    "y_val = y_val.astype(float)\n",
    "\n",
    "\n",
    "W = sgd(X_train, y_train, max_iterations=1025, stop_criterion=0.01, learning_rate=1e-3, regul_strength=1e4)\n",
    "\n"
   ]
  },
  {
   "cell_type": "code",
   "execution_count": 180,
   "id": "indoor-sister",
   "metadata": {},
   "outputs": [
    {
     "name": "stdout",
     "output_type": "stream",
     "text": [
      "train and validation F1 scores: 0.7654320987654321 0.7692307692307693\n"
     ]
    }
   ],
   "source": [
    "\n",
    "\n",
    "train_score = score(W, X_train, y_train)\n",
    "\n",
    "val_score = score(W, X_val, y_val)\n",
    "\n",
    "print('train and validation F1 scores:',train_score,val_score)\n"
   ]
  },
  {
   "cell_type": "markdown",
   "id": "descending-mercury",
   "metadata": {},
   "source": [
    "With average training and validation F1 scores of around 0.76, the linear SVM with a hard margin has already performed quite well. \n",
    "\n",
    "Our next step is to modify our kernel and use a gaussian radial basis function:\n",
    "$$k(\\boldsymbol x,\\boldsymbol y) = e^{\\frac{-||\\boldsymbol x-\\boldsymbol y||^2}{\\sigma}} $$\n",
    "\n",
    "This means we are projecting our problem (our data points) into a higher dimension space. It will be beneficial if the problem we are trying to solve is non linear.\n",
    "\n",
    "We will redefine the hinge loss functions below by using the rbf function in place of the previous dot products from the linear polynomial kernel.\n",
    "\n",
    "Also important is the new partial derivative of the hinge loss function with respect to the weights vector.\n",
    "This is now\n",
    "$$ \\boldsymbol w - \\frac{\\lambda}{n}(\\frac{2}{\\sigma} (x - \\boldsymbol  w) \\cdot \\boldsymbol  1 * e^{\\frac{-||\\boldsymbol x-\\boldsymbol w||^2}{\\sigma}}) $$"
   ]
  },
  {
   "cell_type": "code",
   "execution_count": 167,
   "id": "signed-nebraska",
   "metadata": {},
   "outputs": [],
   "source": [
    "def rbf(x,w,sigma):#radial basis function kernel\n",
    "    return np.exp((-(np.linalg.norm(x-w))**2) / sigma)\n",
    "    \n",
    "\n",
    "# calculate gradient of cost with rbf\n",
    "def compute_cost2(W, X, y, sigma, b, regul_strength=1e5):\n",
    "    \"\"\"\n",
    "    W weights; X, y, data; sigma, rbf sd; b, intercept; regul_strength chooses hard margin\n",
    "    \"\"\"\n",
    "    n = X.shape[0]\n",
    "    distances = 1 - y * (rbf(X, W,sigma)+b)  ## <-- kernel trick\n",
    "    distances[distances < 0] = 0  # equivalent to max(0, distance)\n",
    "    hinge = regul_strength * (np.sum(distances) / n)  \n",
    "\n",
    "    # calculate cost\n",
    "    cost = 1 / 2 * np.dot(W, W) + hinge\n",
    "    return cost\n",
    "\n",
    "\n",
    "\n",
    "def calculate_cost_gradient2(W, X_batch, y_batch, sigma, b, regul_strength=1e5,):\n",
    "    # if only one example is passed\n",
    "    if type(y_batch) == np.float64:\n",
    "        y_batch = np.asarray([y_batch])\n",
    "        X_batch = np.asarray([X_batch])  # gives multidimensional array\n",
    "\n",
    "    distance = 1 - (y_batch * rbf(X_batch, W,sigma) +b) #add intercept and need to remove ones column\n",
    "    dw = np.zeros(len(W))\n",
    "\n",
    "    for ind, d in enumerate(distance):\n",
    "        if max(0, d)==0:\n",
    "            di = W #\n",
    "        else: #new gradient with rbf\n",
    "            CHUNGUS = (2/sigma)*(X_batch[ind]-W) * rbf(X_batch[ind],W,sigma) #partial derivative of hinge loss, not adding b\n",
    " \n",
    "            di = W - (y_batch[ind] * regul_strength)*CHUNGUS\n",
    "        dw += di\n",
    "\n",
    "    dw = dw/len(y_batch)  # average, we have counted W n times\n",
    "    return dw\n",
    "\n",
    "def sgd2(X, y, sigma, b, max_iterations=2000, stop_criterion=0.01, learning_rate=1e-5, regul_strength=1e4, print_outcome=False):\n",
    "    # initialise zero weights\n",
    "    weights = np.zeros(X.shape[1])\n",
    "    nth = 0\n",
    "    # initialise starting cost as infinity\n",
    "    prev_cost = np.inf\n",
    "\n",
    "    # stochastic gradient descent\n",
    "    for iteration in range(1, max_iterations):\n",
    "        # shuffle to prevent repeating update cycles\n",
    "        np.random.shuffle([X, y])\n",
    "        for ind, x in enumerate(X):\n",
    "            ascent = calculate_cost_gradient2(weights, x, y[ind], sigma,b, regul_strength) ## <-- SOLUTION\n",
    "            weights = weights - (learning_rate * ascent)\n",
    "\n",
    "        # convergence check on 2^n'th iteration\n",
    "        if iteration==2**nth or iteration==max_iterations-1:\n",
    "            # compute cost\n",
    "            cost = compute_cost2(weights, X, y, sigma,b, regul_strength)  ## <-- SOLUTION\n",
    "            if print_outcome:\n",
    "                print(\"Iteration is: {}, Cost is: {}\".format(iteration, cost))\n",
    "            # stop criterion\n",
    "            if abs(prev_cost - cost) < stop_criterion * prev_cost:\n",
    "                return weights\n",
    "\n",
    "            prev_cost = cost\n",
    "            nth += 1\n",
    "\n",
    "    return weights\n",
    "\n",
    "\n",
    "\n",
    "def score2(W, X, y,sigma,b,preds=False): #F1 score\n",
    "    y_preds = np.array([])\n",
    "    for i in range(X.shape[0]):\n",
    "        y_pred = np.sign(rbf(X[i], W,sigma)+b)\n",
    "        y_preds = np.append(y_preds, y_pred)\n",
    "    #print(y_preds)\n",
    "    if preds==False:\n",
    "        return np.float(sum(y_preds==y)) /(sum(y_preds==y) + 0.5*(sum(y_preds!=y))) # f1 score\n",
    "    elif preds == 'raw':\n",
    "        y_raws = np.array([])\n",
    "        for i in range(X.shape[0]):\n",
    "            y_raws = np.append(y_raws,rbf(X[i], W,sigma)+b)\n",
    "        return y_raws\n",
    "    else:\n",
    "        return np.float(sum(y_preds==y)) /(sum(y_preds==y) + 0.5*(sum(y_preds!=y))), y_preds #f1 score and predictions\n",
    "        \n"
   ]
  },
  {
   "cell_type": "markdown",
   "id": "shaped-pension",
   "metadata": {},
   "source": [
    "A modified cross val function that searches the kernel parameter sigma."
   ]
  },
  {
   "cell_type": "code",
   "execution_count": 168,
   "id": "widespread-addiction",
   "metadata": {},
   "outputs": [],
   "source": [
    "\n",
    "\n",
    "def cross_val_svm_rbf(data, num_folds,sigmas,bs,seed):\n",
    "  \n",
    "    np.random.seed(seed)\n",
    "    \n",
    "    folds = cross_val_split(data, num_folds)\n",
    "\n",
    "    train_scores = np.zeros((num_folds,len(sigmas),len(bs)))\n",
    "    val_scores = np.zeros((num_folds,len(sigmas),len(bs)))\n",
    "\n",
    "    for i in range(len(folds)):#for each fold\n",
    "        print('Fold', i+1)\n",
    "        # define the training set\n",
    "        train_set = np.delete(np.asarray(folds).reshape(len(folds), folds[0].shape[0], folds[0].shape[1]), i, axis=0)\n",
    "        train_folds = train_set.reshape(len(train_set)*train_set[0].shape[0], train_set[0].shape[1])\n",
    "        #X_train = train_folds[:,:-1]\n",
    "        X_train = standardise(train_folds[:,:-1])\n",
    "        #X_train = np.hstack((X_train,np.ones((X_train.shape[0],1))))\n",
    "\n",
    "        \n",
    "        y_train = train_folds[:, -1]\n",
    "        y_train[y_train==0] = -1.0 #turn 10 to 1,-1\n",
    "        y_train = y_train.astype(float)\n",
    "        \n",
    "        \n",
    "        # define the validation set\n",
    "        val_fold = folds[i]\n",
    "        #X_val = val_fold[:,:-1]\n",
    "        X_val = standardise(val_fold[:,:-1])\n",
    "        #X_val = np.hstack((X_val,np.ones((X_val.shape[0],1)))) #add an intercept column\n",
    "\n",
    "        \n",
    "        y_val = val_fold[:, -1]\n",
    "        y_val[y_val==0] = -1.0 #turn 0 to -1\n",
    "        y_val = y_val.astype(float)\n",
    "\n",
    "        #explore grid search\n",
    "        for si in range(len(sigmas)): #sigma index\n",
    "            for bi in range(len(bs)):\n",
    "                # train the model\n",
    "                W = sgd2(X_train, y_train, sigmas[si], bs[bi], max_iterations=1025, stop_criterion=0.01, learning_rate=1e-3, regul_strength=1e4)\n",
    "                #print(\"Training finished.\")\n",
    "\n",
    "                # evaluate\n",
    "                train_score = score2(W, X_train, y_train,sigmas[si],bs[bi])\n",
    "                val_score = score2(W, X_val, y_val,sigmas[si],bs[bi])\n",
    "                #print(\"F1 score on train set #{}, sigma={}: {}\".format(i+1,sigmas[si], train_score))\n",
    "                #print(\"F1 score on validation set #{}sigma={}:, b={}, {}\".format(i+1,sigmas[si],bs[bi], val_score))\n",
    "\n",
    "                train_scores[i,si,bi]=train_score\n",
    "                val_scores[i,si,bi] = val_score\n",
    "\n",
    "    return train_scores, val_scores"
   ]
  },
  {
   "cell_type": "code",
   "execution_count": 169,
   "id": "suited-vietnamese",
   "metadata": {},
   "outputs": [
    {
     "name": "stdout",
     "output_type": "stream",
     "text": [
      "Fold 1\n",
      "Fold 2\n",
      "Fold 3\n",
      "Fold 4\n",
      "Fold 5\n"
     ]
    }
   ],
   "source": [
    "\n",
    "ligmas = np.linspace(0.1,60,9)\n",
    "bees = -np.linspace(0.01,2,10)\n",
    "\n",
    "rbf_train1, rbf_val1 = cross_val_svm_rbf(cls_test, 5,sigmas=ligmas,bs=bees,seed=10)\n",
    "\n"
   ]
  },
  {
   "cell_type": "code",
   "execution_count": 171,
   "id": "descending-decade",
   "metadata": {},
   "outputs": [
    {
     "data": {
      "text/plain": [
       "[Text(0.5, 12.5, 'sigma'), Text(30.5, 0.5, 'b')]"
      ]
     },
     "execution_count": 171,
     "metadata": {},
     "output_type": "execute_result"
    },
    {
     "data": {
      "image/png": "[encoded data removed]",
      "text/plain": [
       "<Figure size 432x288 with 2 Axes>"
      ]
     },
     "metadata": {},
     "output_type": "display_data"
    }
   ],
   "source": [
    "f1map = np.mean(rbf_val1, axis=0)\n",
    "plt.title(\"heatmap for f1 score\")\n",
    "xticks = np.ndarray.tolist(np.round(ligmas,2))\n",
    "yticks = np.ndarray.tolist(np.round(bees,2))\n",
    "ax = sns.heatmap(f1map,xticklabels=xticks,yticklabels=yticks)\n",
    "ax.set(xlabel='sigma', ylabel='b')\n"
   ]
  },
  {
   "cell_type": "markdown",
   "id": "velvet-playback",
   "metadata": {},
   "source": [
    "The plot above is a broad grid search in the parameter space (sigma and b). Though, we note that b and sigma are interlinked, a large sigma results in a smaller output from the RBF kernel function, since we end up taking the  exponential of a smaller negative number. The link between those two parameters are forced when we make predictions and add the negative b to the positive RBF output. So we will do our grid search again and choose large sigmas and small bs."
   ]
  },
  {
   "cell_type": "code",
   "execution_count": 172,
   "id": "color-senator",
   "metadata": {},
   "outputs": [
    {
     "name": "stdout",
     "output_type": "stream",
     "text": [
      "Fold 1\n",
      "Fold 2\n",
      "Fold 3\n",
      "Fold 4\n",
      "Fold 5\n"
     ]
    }
   ],
   "source": [
    "\n",
    "ligmas = np.linspace(0.1,420,10)\n",
    "bees = -np.linspace(0.001,0.69,10)\n",
    "\n",
    "rbf_train, rbf_val = cross_val_svm_rbf(cls_test, 5,sigmas=ligmas,bs=bees,seed=10)\n",
    "\n"
   ]
  },
  {
   "cell_type": "code",
   "execution_count": 173,
   "id": "proper-flesh",
   "metadata": {},
   "outputs": [
    {
     "data": {
      "text/plain": [
       "[Text(0.5, 12.5, 'sigma'), Text(30.5, 0.5, 'b')]"
      ]
     },
     "execution_count": 173,
     "metadata": {},
     "output_type": "execute_result"
    },
    {
     "data": {
      "image/png": "[encoded data removed]",
      "text/plain": [
       "<Figure size 432x288 with 2 Axes>"
      ]
     },
     "metadata": {},
     "output_type": "display_data"
    }
   ],
   "source": [
    "f1map = np.mean(rbf_val, axis=0)\n",
    "plt.title(\"zoned in heatmap for f1 score\")\n",
    "xticks = np.ndarray.tolist(np.round(ligmas,2))\n",
    "yticks = np.ndarray.tolist(np.round(bees,2))\n",
    "ax = sns.heatmap(f1map,xticklabels=xticks,yticklabels=yticks)\n",
    "ax.set(xlabel='sigma', ylabel='b')\n"
   ]
  },
  {
   "cell_type": "markdown",
   "id": "cooperative-palmer",
   "metadata": {},
   "source": [
    "We can see our optimum sigma (280) and beta (-0.08) as above and will use this to train the whole model."
   ]
  },
  {
   "cell_type": "code",
   "execution_count": 175,
   "id": "efficient-ballet",
   "metadata": {},
   "outputs": [
    {
     "name": "stdout",
     "output_type": "stream",
     "text": [
      "train and validation F1 scores: 0.826118855465884 0.8130563798219584\n"
     ]
    }
   ],
   "source": [
    "opt_sig=280\n",
    "opt_b = -0.08\n",
    "\n",
    "\n",
    "X_train = standardise(np.asarray(cls_train.iloc[:,:-1]))\n",
    "y_train = np.asarray(cls_train.iloc[:,-1])\n",
    "\n",
    "X_val = standardise(np.asarray(cls_test.iloc[:,:-1]))\n",
    "y_val = np.asarray(cls_test.iloc[:,-1])\n",
    "\n",
    "y_train[y_train==0] = -1.0 #turn 10 to 1,-1\n",
    "y_train = y_train.astype(float)\n",
    "\n",
    "y_val[y_val==0] = -1.0 #turn 0 to -1\n",
    "y_val = y_val.astype(float)\n",
    "\n",
    "W = sgd2(X_train,y_train,opt_sig,opt_b)\n",
    "\n",
    "\n",
    "train_score = score2(W, X_train, y_train,opt_sig,opt_b)\n",
    "\n",
    "val_score = score2(W, X_val, y_val,opt_sig,opt_b,preds=1)\n",
    "\n",
    "print('train and validation F1 scores:',train_score,val_score[0])\n"
   ]
  },
  {
   "cell_type": "markdown",
   "id": "continent-pendant",
   "metadata": {},
   "source": [
    "We have these F1 scores above. To recap, the F1 scores for the linear kernel were ~0.76. With the RBF, we have improved on this (~0.81), which suggests the problem we encounter has some non-linear elements to it and it was a good decision to try out this kernel.\n",
    "\n",
    "However upon further examination, our model is not useful despite it's high F1 score. Somewhere along the optimisation, the model has discovered that it will predict better by just outputting 1s. If you trace back the predictions, you will see that there are some iterations during the grid search where 1s and -1s are being predicted. Unfortunately, we have not tunes this model well and it has converged into something not useful.\n",
    "\n",
    "We will plot an ROC curve below. "
   ]
  },
  {
   "cell_type": "code",
   "execution_count": 176,
   "id": "charming-cannon",
   "metadata": {},
   "outputs": [
    {
     "data": {
      "text/plain": [
       "Text(0, 0.5, 'true positivity rate')"
      ]
     },
     "execution_count": 176,
     "metadata": {},
     "output_type": "execute_result"
    },
    {
     "data": {
      "image/png": "[encoded data removed]",
      "text/plain": [
       "<Figure size 432x288 with 1 Axes>"
      ]
     },
     "metadata": {},
     "output_type": "display_data"
    }
   ],
   "source": [
    "raw_rbf = score2(W, X_val, y_val,opt_sig,opt_b,preds='raw')\n",
    "\n",
    "\n",
    "threshys= np.linspace(-1.5,0.5,100) #threshold to vary\n",
    "roc1 = np.zeros((100,2)) #fill in results\n",
    "\n",
    "\n",
    "for t in range(len(threshys)): #loop\n",
    "    rawtopred = np.sign(raw_rbf + threshys[t]) #convert raw to 1 and -1\n",
    "    tp = sum(np.multiply(rawtopred==1, y_val==1))\n",
    "    tn = sum(np.multiply(rawtopred==-1, y_val==-1))\n",
    "    fp = sum(np.multiply(rawtopred==1, y_val==-1))\n",
    "    fn = sum(np.multiply(rawtopred==-1, y_val==1))\n",
    "    #print(tp,tn,fp,fn)\n",
    "    \n",
    "    tpr = tp/(tp+fn) #recall, true pos rate\n",
    "    fpr = fp/(tn+fp) #false neg rate\n",
    "    roc1[t,:] = [tpr,fpr] #first column is y, second column is x\n",
    "    \n",
    "plt.plot(roc1[:,1],roc1[:,0])\n",
    "plt.plot(np.linspace(0,1,100),np.linspace(0,1,100))\n",
    "plt.title('ROC curve for RBF hard margin estimate using optimum (apparently) paramters')\n",
    "plt.xlabel('false positivity rate')\n",
    "plt.ylabel('true positivity rate')\n"
   ]
  },
  {
   "cell_type": "markdown",
   "id": "substantial-treatment",
   "metadata": {},
   "source": [
    "The ROC curve is barely above the y=x line. This means that our model is marginally better than making random guesses. For a more interesting ROC curve, with more analysis, please see the ROC curve for the sigmoid kernel."
   ]
  },
  {
   "cell_type": "markdown",
   "id": "unavailable-unknown",
   "metadata": {},
   "source": [
    "Lastly, we will be trying to use a sigmoid kernel and a soft margin to see if we can improve further on this F1 score.\n",
    "\n",
    "The sigmoid kernel function is $$k(\\boldsymbol x, \\boldsymbol y) = tanh(\\beta (\\boldsymbol x \\cdot \\boldsymbol y) +c)   $$\n",
    "\n",
    "We will rewrite some of the functions above but replace the rbf with this sigmoid kernel and recalculate the derivative of the hinge loss.\n",
    "\n",
    "\n"
   ]
  },
  {
   "cell_type": "code",
   "execution_count": 181,
   "id": "polish-madison",
   "metadata": {},
   "outputs": [],
   "source": [
    "def sigmoid(x,w,beta,c):\n",
    "    return np.tanh(beta *(np.dot(x,w)) +c)\n",
    "\n",
    "\n",
    "# calculate gradient of cost with sigmoid\n",
    "def compute_cost3(W, X, y, beta,c,b, regul_strength=1e-1):\n",
    "    n = X.shape[0]\n",
    "    distances = 1 - y * (sigmoid(X, W,beta,c) + b)  ## <-- kernel trick\n",
    "    distances[distances < 0] = 0  # equivalent to max(0, distance)\n",
    "    hinge = regul_strength * (np.sum(distances) / n)  \n",
    "\n",
    "    # calculate cost\n",
    "    cost = 1 / 2 * sigmoid(W, W,beta,c) + hinge\n",
    "    return cost\n",
    "\n",
    "\n",
    "\n",
    "def calculate_cost_gradient3(W, X_batch, y_batch, beta,c,b, regul_strength=1e-1):\n",
    "    # if only one example is passed\n",
    "    if type(y_batch) == np.float64:\n",
    "        y_batch = np.asarray([y_batch])\n",
    "        X_batch = np.asarray([X_batch])  # gives multidimensional array\n",
    "\n",
    "    distance = 1 - (y_batch * (sigmoid(X_batch, W,beta,c)+b))\n",
    "    dw = np.zeros(len(W))\n",
    "\n",
    "    for ind, d in enumerate(distance):\n",
    "        if max(0, d)==0:\n",
    "            di = W #equal to zero?\n",
    "        else: #new gradient with rbf\n",
    "            di = W - (regul_strength * y_batch[ind] * beta * X_batch[ind] * (1 - np.tanh(beta*np.dot(X_batch[ind],W) +c)**2))\n",
    "\n",
    "        dw += di\n",
    "\n",
    "    dw = dw/len(y_batch)  # average\n",
    "    return dw\n",
    "\n",
    "def sgd3(X, y, beta,c,b, max_iterations=2000, stop_criterion=0.01, learning_rate=1e-5, regul_strength=1e5, print_outcome=False):\n",
    "    # initialise zero weights\n",
    "    weights = np.zeros(X.shape[1])\n",
    "    nth = 0\n",
    "    # initialise starting cost as infinity\n",
    "    prev_cost = np.inf\n",
    "\n",
    "    # stochastic gradient descent\n",
    "    for iteration in range(1, max_iterations):\n",
    "        # shuffle to prevent repeating update cycles\n",
    "        np.random.shuffle([X, y])\n",
    "        for ind, x in enumerate(X):\n",
    "            ascent = calculate_cost_gradient3(weights, x, y[ind], beta,c,b, regul_strength) #\n",
    "            weights = weights - (learning_rate * ascent)\n",
    "\n",
    "        # convergence check on 2^n'th iteration\n",
    "        if iteration==2**nth or iteration==max_iterations-1:\n",
    "            # compute cost\n",
    "            cost = compute_cost3(weights, X, y, beta,c,b, regul_strength)  #\n",
    "            if print_outcome:\n",
    "                print(\"Iteration is: {}, Cost is: {}\".format(iteration, cost))\n",
    "            # stop criterion\n",
    "            if abs(prev_cost - cost) < stop_criterion * prev_cost:\n",
    "                return weights\n",
    "\n",
    "            prev_cost = cost\n",
    "            nth += 1\n",
    "\n",
    "    return weights\n",
    "\n",
    "\n",
    "def score3(W, X, y,beta,c,b,pred=False): #F1 score\n",
    "    y_preds = np.array([])\n",
    "    for i in range(X.shape[0]):\n",
    "        y_pred = np.sign(sigmoid(X[i], W,beta,c)+b)\n",
    "        y_preds = np.append(y_preds, y_pred)\n",
    "    #print(y_preds)\n",
    "    if pred==False:\n",
    "        return np.float(sum(y_preds==y)) /(sum(y_preds==y) + 0.5*(sum(y_preds!=y))) # f1 score\n",
    "    elif pred=='raw': # v inefficient, but not too slow, just to output raw values so we fcan plot ROC\n",
    "        y_raws = np.array([])\n",
    "        for i in range(X.shape[0]):\n",
    "            y_raws = np.append(y_raws,sigmoid(X[i], W,beta,c)+b)\n",
    "        return y_raws\n",
    "    else:\n",
    "        return np.float(sum(y_preds==y)) /(sum(y_preds==y) + 0.5*(sum(y_preds!=y))), y_preds\n",
    "\n"
   ]
  },
  {
   "cell_type": "markdown",
   "id": "figured-dance",
   "metadata": {},
   "source": [
    "We rewrite a cross validation function and default the regul_strength parameter to a small number since this approximates a soft margin method."
   ]
  },
  {
   "cell_type": "code",
   "execution_count": 182,
   "id": "personalized-secretariat",
   "metadata": {},
   "outputs": [],
   "source": [
    "def cross_val_svm_sgm(data, num_folds,betas,cs,b,seed=25,regul=1e4):\n",
    "  \n",
    "    np.random.seed(seed)\n",
    "    \n",
    "    folds = cross_val_split(data, num_folds)\n",
    "\n",
    "    train_scores = np.zeros((num_folds,len(betas),len(cs)))\n",
    "    val_scores = np.zeros((num_folds,len(betas),len(cs)))\n",
    "\n",
    "    for i in range(len(folds)):#for each fold\n",
    "        print('Fold', i+1)\n",
    "        # define the training set\n",
    "        train_set = np.delete(np.asarray(folds).reshape(len(folds), folds[0].shape[0], folds[0].shape[1]), i, axis=0)\n",
    "        train_folds = train_set.reshape(len(train_set)*train_set[0].shape[0], train_set[0].shape[1])\n",
    "        #X_train = train_folds[:,:-1]\n",
    "        X_train = standardise(train_folds[:,:-1])\n",
    "        #X_train = np.hstack((X_train,np.ones((X_train.shape[0],1))))\n",
    "\n",
    "        \n",
    "        y_train = train_folds[:, -1]\n",
    "        y_train[y_train==0] = -1.0 #turn 10 to 1,-1\n",
    "        y_train = y_train.astype(float)\n",
    "        \n",
    "        \n",
    "        # define the validation set\n",
    "        val_fold = folds[i]\n",
    "        #X_val = val_fold[:,:-1]\n",
    "        X_val = standardise(val_fold[:,:-1])\n",
    "        #X_val = np.hstack((X_val,np.ones((X_val.shape[0],1)))) #no intercept column for these new kernels\n",
    "\n",
    "        \n",
    "        y_val = val_fold[:, -1]\n",
    "        y_val[y_val==0] = -1.0 #turn 0 to -1\n",
    "        y_val = y_val.astype(float)\n",
    "\n",
    "        #explore grid search\n",
    "        for bi in range(len(betas)): #beta index\n",
    "            for ci in range(len(cs)): #c index\n",
    "                # train the model\n",
    "                W = sgd3(X_train, y_train, betas[bi], cs[ci],b, max_iterations=1025, stop_criterion=0.05, learning_rate=1e-3, regul_strength=regul)\n",
    "                #print(\"Training finished.\")\n",
    "\n",
    "                # evaluate\n",
    "                train_score = score3(W, X_train, y_train,betas[bi],cs[ci],b)\n",
    "                val_score = score3(W, X_val, y_val,betas[bi],cs[ci],b)\n",
    "                #print(\"F1 score on train set #{}, beta={}: {}\".format(i+1,betas[bi], train_score))\n",
    "                #print(\"F1 score on validation set #{}beta={}: {}\".format(i+1,betas[bi], val_score))\n",
    "\n",
    "                train_scores[i,bi,ci]=train_score\n",
    "                val_scores[i,bi,ci] = val_score\n",
    "\n",
    "    return train_scores, val_scores\n",
    "\n"
   ]
  },
  {
   "cell_type": "code",
   "execution_count": 183,
   "id": "current-instrument",
   "metadata": {},
   "outputs": [
    {
     "name": "stdout",
     "output_type": "stream",
     "text": [
      "Fold 1\n",
      "Fold 2\n",
      "Fold 3\n",
      "Fold 4\n",
      "Fold 5\n"
     ]
    },
    {
     "data": {
      "text/plain": [
       "[Text(0.5, 12.5, 'beta'), Text(30.5, 0.5, 'c')]"
      ]
     },
     "execution_count": 183,
     "metadata": {},
     "output_type": "execute_result"
    },
    {
     "data": {
      "image/png": "[encoded data removed]",
      "text/plain": [
       "<Figure size 432x288 with 2 Axes>"
      ]
     },
     "metadata": {},
     "output_type": "display_data"
    }
   ],
   "source": [
    "bois = np.linspace(0.1,1,10) #beta\n",
    "crispys = np.linspace(-10,10,10) #c\n",
    "\n",
    "sgm_train, sgm_val = cross_val_svm_sgm(cls_test, 5,betas=bois,cs=crispys,b=0, seed=10)\n",
    "\n",
    "\n",
    "\n",
    "f1map = np.mean(sgm_val, axis=0)\n",
    "plt.title(\"heatmap for f1 score\")\n",
    "xticks = np.ndarray.tolist(np.round(bois,2))\n",
    "yticks = np.ndarray.tolist(np.round(crispys,2))\n",
    "ax = sns.heatmap(f1map,xticklabels=xticks,yticklabels=yticks)\n",
    "ax.set(xlabel='beta', ylabel='c')\n"
   ]
  },
  {
   "cell_type": "markdown",
   "id": "sufficient-brief",
   "metadata": {},
   "source": [
    "This grid search tells us that the optimum beta parameter is beta>0.7 and that c is not particularly important. We can choose beta=1 and c=0 for paramters that maximise f1 score during this cross validation step"
   ]
  },
  {
   "cell_type": "code",
   "execution_count": 184,
   "id": "growing-galaxy",
   "metadata": {},
   "outputs": [
    {
     "name": "stdout",
     "output_type": "stream",
     "text": [
      "train and test F1 scores: 0.8489208633093526 0.8095238095238095\n"
     ]
    },
    {
     "data": {
      "text/plain": [
       "array([ 1., -1., -1., -1.,  1.,  1., -1.,  1., -1.,  1.,  1.,  1.,  1.,\n",
       "        1.,  1.,  1.,  1.,  1.,  1.,  1.,  1.,  1.,  1.,  1.,  1.,  1.,\n",
       "        1.,  1.,  1.,  1., -1.,  1.,  1.,  1.,  1.,  1.,  1.,  1.,  1.,\n",
       "        1., -1.,  1.,  1.,  1.,  1.,  1.,  1.,  1.,  1., -1., -1., -1.,\n",
       "        1.,  1.,  1.,  1.,  1.,  1.,  1.,  1., -1., -1.,  1.,  1.,  1.,\n",
       "        1.,  1., -1.,  1.,  1.,  1.,  1., -1.,  1.,  1.,  1.,  1.,  1.,\n",
       "        1.,  1.,  1.,  1., -1.,  1.,  1., -1.,  1.,  1.,  1.,  1.,  1.,\n",
       "        1.,  1.,  1.,  1.,  1.,  1.,  1.,  1.,  1.,  1.,  1.,  1., -1.,\n",
       "        1.,  1.,  1.,  1., -1.,  1.,  1.,  1.,  1.,  1., -1., -1.,  1.,\n",
       "        1.,  1.,  1.,  1.,  1.,  1., -1.,  1.,  1.,  1., -1.,  1.,  1.,\n",
       "        1.,  1.,  1.,  1.,  1.,  1.,  1.,  1.,  1.,  1.,  1., -1.,  1.,\n",
       "        1.,  1.,  1.,  1.,  1.,  1., -1.,  1.,  1.,  1., -1.,  1.,  1.,\n",
       "        1., -1.,  1., -1.,  1., -1.,  1.,  1.,  1., -1.,  1.,  1.,  1.,\n",
       "        1.,  1.,  1.,  1.,  1., -1.,  1.,  1.,  1., -1.,  1.,  1.,  1.,\n",
       "        1.,  1.,  1.,  1., -1., -1.,  1.,  1.,  1., -1.,  1.,  1.,  1.,\n",
       "        1.,  1.,  1., -1.,  1.])"
      ]
     },
     "execution_count": 184,
     "metadata": {},
     "output_type": "execute_result"
    }
   ],
   "source": [
    "W = sgd3(X_train,y_train,1,0,0)\n",
    "\n",
    "\n",
    "train_score = score3(W, X_train, y_train,1,0,0)\n",
    "\n",
    "val_score = score3(W, X_val, y_val,1,0,0,pred=1)\n",
    "\n",
    "print('train and test F1 scores:',train_score,val_score[0])\n",
    "\n",
    "val_score[1] #this is our prediction\n",
    "\n",
    "\n"
   ]
  },
  {
   "cell_type": "markdown",
   "id": "english-mainstream",
   "metadata": {},
   "source": [
    "The F1 scores for this sigmoid kernel are slightly worse than that of the rbf. However, unlike the RBF kernel model, this model has not been tricked into just predicting 1s, which results in a high f1 score due to the unbalanced nature of the dataset.\n",
    "\n",
    "This suggests that the sigmoid kernel is the most suitable kernel for this dataset and problem.\n",
    "\n",
    "Next we will try this sigmoid kernel again, but with a soft margin. This is being accomplished by setting regul_strength to be small"
   ]
  },
  {
   "cell_type": "code",
   "execution_count": 185,
   "id": "included-marijuana",
   "metadata": {},
   "outputs": [
    {
     "name": "stdout",
     "output_type": "stream",
     "text": [
      "Fold 1\n",
      "Fold 2\n",
      "Fold 3\n",
      "Fold 4\n",
      "Fold 5\n"
     ]
    },
    {
     "data": {
      "text/plain": [
       "[Text(0.5, 12.5, 'beta'), Text(30.5, 0.5, 'c')]"
      ]
     },
     "execution_count": 185,
     "metadata": {},
     "output_type": "execute_result"
    },
    {
     "data": {
      "image/png": "[encoded data removed]",
      "text/plain": [
       "<Figure size 432x288 with 2 Axes>"
      ]
     },
     "metadata": {},
     "output_type": "display_data"
    }
   ],
   "source": [
    "bois = np.linspace(0.1,1,10) #beta\n",
    "crispys = np.linspace(-10,10,10) #c\n",
    "\n",
    "sgm_train, sgm_val = cross_val_svm_sgm(cls_test, 5,betas=bois,cs=crispys,b=0, seed=10, regul=0.5)\n",
    "\n",
    "f1map = np.mean(sgm_val, axis=0)\n",
    "plt.title(\"heatmap for f1 score\")\n",
    "xticks = np.ndarray.tolist(np.round(bois,2))\n",
    "yticks = np.ndarray.tolist(np.round(crispys,2))\n",
    "ax = sns.heatmap(f1map,xticklabels=xticks,yticklabels=yticks)\n",
    "ax.set(xlabel='beta', ylabel='c')\n",
    "\n"
   ]
  },
  {
   "cell_type": "markdown",
   "id": "powered-massachusetts",
   "metadata": {},
   "source": [
    "This heatmap is not very useful. Apparently taking any beta greater than 0.55 with any c value will give a great f1 score. Whilst, we believe that taking any of these values should give a reasonable result, it is not useful since we do not have a precise beta and c value to choose. We will go ahead with beta=0.7, c=0 and see what happens."
   ]
  },
  {
   "cell_type": "code",
   "execution_count": 186,
   "id": "spiritual-mechanics",
   "metadata": {},
   "outputs": [
    {
     "name": "stdout",
     "output_type": "stream",
     "text": [
      "train and test F1 scores: 0.8489208633093526 0.8269794721407625\n"
     ]
    },
    {
     "data": {
      "text/plain": [
       "array([-1., -1.,  1., -1.,  1.,  1., -1.,  1.,  1.,  1.,  1.,  1.,  1.,\n",
       "        1.,  1.,  1., -1.,  1.,  1.,  1.,  1.,  1., -1.,  1.,  1.,  1.,\n",
       "       -1.,  1.,  1.,  1., -1.,  1., -1.,  1.,  1.,  1., -1.,  1.,  1.,\n",
       "       -1., -1.,  1.,  1.,  1.,  1.,  1.,  1.,  1.,  1., -1., -1., -1.,\n",
       "        1.,  1.,  1.,  1.,  1.,  1.,  1.,  1., -1., -1.,  1.,  1.,  1.,\n",
       "        1.,  1., -1.,  1.,  1.,  1.,  1., -1.,  1.,  1.,  1.,  1.,  1.,\n",
       "        1.,  1.,  1.,  1., -1.,  1.,  1.,  1.,  1.,  1.,  1.,  1.,  1.,\n",
       "        1.,  1.,  1.,  1., -1.,  1., -1.,  1.,  1.,  1.,  1.,  1., -1.,\n",
       "        1.,  1.,  1.,  1., -1.,  1.,  1., -1.,  1.,  1., -1., -1.,  1.,\n",
       "        1.,  1.,  1., -1.,  1.,  1., -1.,  1.,  1.,  1.,  1.,  1.,  1.,\n",
       "        1.,  1.,  1.,  1.,  1.,  1.,  1.,  1., -1.,  1.,  1.,  1.,  1.,\n",
       "        1.,  1.,  1., -1.,  1.,  1., -1.,  1.,  1.,  1.,  1.,  1.,  1.,\n",
       "        1., -1.,  1., -1.,  1., -1.,  1.,  1.,  1.,  1.,  1.,  1.,  1.,\n",
       "        1.,  1.,  1.,  1.,  1., -1.,  1.,  1., -1., -1.,  1.,  1.,  1.,\n",
       "        1.,  1.,  1.,  1., -1., -1.,  1.,  1.,  1.,  1., -1.,  1.,  1.,\n",
       "        1.,  1.,  1., -1.,  1.])"
      ]
     },
     "execution_count": 186,
     "metadata": {},
     "output_type": "execute_result"
    }
   ],
   "source": [
    "W = sgd3(X_train,y_train,1,0,0,regul_strength=0.5) #regul strength forces th soft margin\n",
    "\n",
    "\n",
    "train_score = score3(W, X_train, y_train,0.7,0,0)\n",
    "\n",
    "val_score = score3(W, X_val, y_val,1,0,0,pred=1)\n",
    "\n",
    "print('train and test F1 scores:',train_score,val_score[0])\n",
    "\n",
    "val_score[1] #this is our prediction, outputting it to show that it is not a useless model\n"
   ]
  },
  {
   "cell_type": "code",
   "execution_count": 187,
   "id": "israeli-charles",
   "metadata": {},
   "outputs": [
    {
     "name": "stdout",
     "output_type": "stream",
     "text": [
      "precision: 0.7468354430379747\n",
      "recall: 0.8613138686131386\n"
     ]
    },
    {
     "data": {
      "image/png": "[encoded data removed]",
      "text/plain": [
       "<Figure size 432x288 with 2 Axes>"
      ]
     },
     "metadata": {},
     "output_type": "display_data"
    }
   ],
   "source": [
    "tp = sum(np.multiply(val_score[1]==1, y_val==1))\n",
    "tn = sum(np.multiply(val_score[1]==-1, y_val==-1))\n",
    "fp = sum(np.multiply(val_score[1]==1, y_val==-1))\n",
    "fn = sum(np.multiply(val_score[1]==-1, y_val==1))\n",
    "\n",
    "confmat = np.array([[tn,fp],[fn,tp]])\n",
    "\n",
    "plt.title(\"confusion matrix for sigmoid kernel soft margin\")\n",
    "xticks = ['n', 'p']\n",
    "yticks = ['n' , 'p']\n",
    "ax = sns.heatmap(confmat,xticklabels=xticks,yticklabels=yticks,annot=True)\n",
    "ax.set(xlabel='predict', ylabel='actual')\n",
    "\n",
    "\n",
    "print('precision:',tp/(tp+fp))\n",
    "print('recall:', tp/(tp+fn))\n"
   ]
  },
  {
   "cell_type": "markdown",
   "id": "touched-register",
   "metadata": {},
   "source": [
    "This confusion matrix shows that we lots of true positives and very few false negatives (our model is not biased to predicting 1s). The prediction of negatives was not as effective. In fact our negative prediction success rate is 50% since we have an equal number of TN and FN.\n",
    "\n",
    "Fortunately, in this context, false negatives are not necessarily a bad thing. For a bank granting credit applications, these false negatives translate as: the bank does award credit to someone who should be elligible. This would mean lost business perhaps, but it is better than awarding credit to customer who will not pay back (false positive) their credit and this could cost the bank a lot. "
   ]
  },
  {
   "cell_type": "code",
   "execution_count": 188,
   "id": "substantial-bunch",
   "metadata": {},
   "outputs": [
    {
     "name": "stderr",
     "output_type": "stream",
     "text": [
      "/home/juser/anaconda3/envs/tf/lib/python3.7/site-packages/ipykernel_launcher.py:28: RuntimeWarning: divide by zero encountered in true_divide\n",
      "/home/juser/anaconda3/envs/tf/lib/python3.7/site-packages/ipykernel_launcher.py:28: RuntimeWarning: invalid value encountered in true_divide\n"
     ]
    },
    {
     "name": "stdout",
     "output_type": "stream",
     "text": [
      "[        nan         nan         nan         nan         nan         nan\n",
      "         nan         nan         nan         nan         nan         nan\n",
      "         nan         nan         nan         nan         nan         nan\n",
      "         inf         inf         inf         inf         inf         inf\n",
      "         inf         inf         inf  5.05839416  5.51824818  7.35766423\n",
      " 10.11678832  6.4379562   3.79379562  3.67883212  4.23065693  3.28467153\n",
      "  3.81021898  3.67883212  3.62773723  2.95072993  2.93599102  2.66715328\n",
      "  2.46157149  2.03649635  2.06934307  1.87620438  1.57883212  1.43211679\n",
      "  1.48467153  1.45413297  1.35713014  1.31539637  1.23960647  1.23960647\n",
      "  1.22627737  1.18642336  1.12794381  1.11557178  1.08394161  1.06492509\n",
      "  1.0729927   1.06242134  1.06000247  1.04233577  1.02524829  1.02524829\n",
      "  1.03278689  1.03278689  1.01612903  1.01612903  1.01612903  1.01612903\n",
      "  1.01612903  1.01612903  1.01612903  1.01612903  1.01612903  1.\n",
      "  1.          1.          1.          1.          1.          1.\n",
      "  1.          1.          1.          1.          1.          1.\n",
      "  1.          1.          1.          1.          1.          1.\n",
      "  1.          1.          1.          1.        ]\n",
      "optimum thresh -0.005454545454545455\n"
     ]
    },
    {
     "data": {
      "image/png": "[encoded data removed]",
      "text/plain": [
       "<Figure size 432x288 with 1 Axes>"
      ]
     },
     "metadata": {},
     "output_type": "display_data"
    }
   ],
   "source": [
    "raws = score3(W, X_val, y_val,1,0,0,pred='raw')\n",
    "\n",
    "\n",
    "threshs= np.linspace(-.02,0.02,100) #threshold to vary\n",
    "roc = np.zeros((100,2)) #fill in results\n",
    "\n",
    "\n",
    "for t in range(len(threshs)): #loop\n",
    "    rawtopred = np.sign(raws + threshs[t]) #convert raw to 1 and -1\n",
    "    tp = sum(np.multiply(rawtopred==1, y_val==1))\n",
    "    tn = sum(np.multiply(rawtopred==-1, y_val==-1))\n",
    "    fp = sum(np.multiply(rawtopred==1, y_val==-1))\n",
    "    fn = sum(np.multiply(rawtopred==-1, y_val==1))\n",
    "    #print(tp,tn,fp,fn)\n",
    "    \n",
    "    tpr = tp/(tp+fn) #recall, true pos rate\n",
    "    fpr = fp/(tn+fp) #false neg rate\n",
    "    roc[t,:] = [tpr,fpr] #first column is y, second column is x\n",
    "    \n",
    "plt.plot(roc[:,1],roc[:,0],label='ROC')\n",
    "plt.plot(np.linspace(0,1,100),np.linspace(0,1,100))\n",
    "plt.title('ROC curve for sigmoid soft margin estimate, beta=0.7, c=0, b=0')\n",
    "plt.xlabel('false positivity rate')\n",
    "plt.ylabel('true positivity rate')\n",
    "plt.legend()\n",
    "\n",
    "\n",
    "maxi = roc[:,0]/roc[:,1]\n",
    "print(maxi)\n",
    "maxid= np.argmax(maxi[35:]) #ignore nans and infs\n",
    "\n",
    "print('optimum thresh',threshs[35+maxid])"
   ]
  },
  {
   "cell_type": "markdown",
   "id": "historic-speaking",
   "metadata": {},
   "source": [
    "This ROC curve is far better than the one we had on our RBF model. The cruve is far away from the y=x line, which implies that we have good true positivity without having bad false positivity; we aren't just guessing 1s.\n"
   ]
  },
  {
   "cell_type": "markdown",
   "id": "charged-criticism",
   "metadata": {},
   "source": [
    "Using the soft margin has given us small increases in performance! The F1 score on the testing data is 0.81. Most notably, this prediction makes meaningful predictions (not just assuming 1 everywhere). See the confusion matrix above for a distribution of the predictions.\n",
    "\n",
    "The precision is also very high, but the recall not as good. This means that our model has predicted -1 when the true value was 1. Our RBF kernel method will have a better recall, but that is because it predicts a lot more 1s, sometimes predicting all 1s, which actually makes our rbf SVM less useful than this sigmoid SVM. \n",
    "\n",
    "The soft margin allows some flexibility with predictions that are close to the hyperplane. This reduces overfitting and is likely the reason why our results have improved. In fact, you can see how adding the soft margin reduced the testing F1 score, but increased the training F1 score.\n",
    "\n",
    "More interesting is the fact that the sigmoid kernel gave a more useful classifier than the rbf kernel. One way of seeing this is that classifying the data is a non linear problem, and that the sigmoid kernel is better suited to this non linear problem than the RBF. Another way of seeing this is that the data has some additional hidden features, that we can only see by projecting the features into a higher dimensional space. And the the sigmoid kernel is better at mapping our features into the hidden features.\n",
    "\n",
    "To conclude, for our given dataset this soft margin sigmoid kernel has performed the best for the classification task."
   ]
  }
 ],
 "metadata": {
  "kernelspec": {
   "display_name": "Python 3",
   "language": "python",
   "name": "python3"
  },
  "language_info": {
   "codemirror_mode": {
    "name": "ipython",
    "version": 3
   },
   "file_extension": ".py",
   "mimetype": "text/x-python",
   "name": "python",
   "nbconvert_exporter": "python",
   "pygments_lexer": "ipython3",
   "version": "3.7.9"
  }
 },
 "nbformat": 4,
 "nbformat_minor": 5
}
